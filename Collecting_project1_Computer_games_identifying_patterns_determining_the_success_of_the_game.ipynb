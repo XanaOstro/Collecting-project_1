{
  "nbformat": 4,
  "nbformat_minor": 0,
  "metadata": {
    "colab": {
      "name": "Collecting project1_Computer games: identifying patterns determining the success of the game.ipynb",
      "provenance": [],
      "collapsed_sections": []
    },
    "kernelspec": {
      "display_name": "Python 3",
      "language": "python",
      "name": "python3"
    },
    "language_info": {
      "codemirror_mode": {
        "name": "ipython",
        "version": 3
      },
      "file_extension": ".py",
      "mimetype": "text/x-python",
      "name": "python",
      "nbconvert_exporter": "python",
      "pygments_lexer": "ipython3",
      "version": "3.7.8"
    },
    "toc": {
      "base_numbering": 1,
      "nav_menu": {},
      "number_sections": true,
      "sideBar": true,
      "skip_h1_title": true,
      "title_cell": "Table of Contents",
      "title_sidebar": "Contents",
      "toc_cell": false,
      "toc_position": {},
      "toc_section_display": true,
      "toc_window_display": false
    }
  },
  "cells": [
    {
      "cell_type": "markdown",
      "metadata": {
        "id": "0qr3XKvqOM1m"
      },
      "source": [
        "# Сборный проект 1. Выявление определяющих успешность игры закономерностей."
      ]
    },
    {
      "cell_type": "markdown",
      "metadata": {
        "id": "gBBNPDfRMf40"
      },
      "source": [
        "**Описание проекта**\n",
        "\n",
        "Цель проекта: спланировать рекламные кампании, сделав ставку на потенциально популярный продукт.\n",
        "\n",
        "Задача проекта: выявить определяющие успешность игры закономерности.\n",
        "\n",
        "Мы имеем данные до 2016 года, необходимо спланироватькампанию на 2017 год. \n",
        "\n"
      ]
    },
    {
      "cell_type": "markdown",
      "metadata": {
        "id": "iyv-xk2PP5Iu"
      },
      "source": [
        "**Описание данных:**\n",
        "\n",
        "Name — название игры\n",
        "\n",
        "Platform — платформа\n",
        "\n",
        "Year_of_Release — год релиза\n",
        "\n",
        "Genre — жанр игры\n",
        "\n",
        "NA_players — продажи игрокам в Северной Америке (в миллионах долларов)\n",
        "\n",
        "EU_players — продажи игрокам в Европе (в миллионах долларов)\n",
        "\n",
        "RU_players — продажи игрокам в России (в миллионах долларов)\n",
        "\n",
        "Other_players — продажи игрокам в других странах\n",
        "\n",
        "Critic_Score — оценка критиков (максимум 100)\n",
        "\n",
        "User_Score — оценка пользователей (максимум 10)\n",
        "\n",
        "Rating — рейтинг ESRB\n",
        "\n",
        "ESRB оценивает игровой контент и присваивает ему подходящую возрастную категорию, например, «Для взрослых», «Для детей младшего возраста» или «Для подростков»."
      ]
    },
    {
      "cell_type": "markdown",
      "metadata": {
        "id": "FRDyy9P3M972"
      },
      "source": [
        "**1. Загрузка файла с данными и изучение общей информации.**\n"
      ]
    },
    {
      "cell_type": "code",
      "metadata": {
        "id": "DXwLy61bMvPs"
      },
      "source": [
        "import pandas as pd\n",
        "import matplotlib.pyplot as plt\n",
        "import math\n",
        "import seaborn as sns\n",
        "import numpy as np\n",
        "from scipy import stats as st\n",
        "import copy"
      ],
      "execution_count": null,
      "outputs": []
    },
    {
      "cell_type": "code",
      "metadata": {
        "id": "mn3Gv-P2Mzcy"
      },
      "source": [
        "df = pd.read_csv('.../datasets/games.csv')\n"
      ],
      "execution_count": null,
      "outputs": []
    },
    {
      "cell_type": "code",
      "metadata": {
        "colab": {
          "base_uri": "https://localhost:8080/",
          "height": 669
        },
        "id": "Yi76bdMsNRIG",
        "outputId": "e58b2a8c-cccd-4f9a-b090-db0fc7f83abd"
      },
      "source": [
        "display(df.sample(20, random_state=1))"
      ],
      "execution_count": null,
      "outputs": [
        {
          "data": {
            "text/html": [
              "<div>\n",
              "<style scoped>\n",
              "    .dataframe tbody tr th:only-of-type {\n",
              "        vertical-align: middle;\n",
              "    }\n",
              "\n",
              "    .dataframe tbody tr th {\n",
              "        vertical-align: top;\n",
              "    }\n",
              "\n",
              "    .dataframe thead th {\n",
              "        text-align: right;\n",
              "    }\n",
              "</style>\n",
              "<table border=\"1\" class=\"dataframe\">\n",
              "  <thead>\n",
              "    <tr style=\"text-align: right;\">\n",
              "      <th></th>\n",
              "      <th>Name</th>\n",
              "      <th>Platform</th>\n",
              "      <th>Year_of_Release</th>\n",
              "      <th>Genre</th>\n",
              "      <th>NA_sales</th>\n",
              "      <th>EU_sales</th>\n",
              "      <th>JP_sales</th>\n",
              "      <th>Other_sales</th>\n",
              "      <th>Critic_Score</th>\n",
              "      <th>User_Score</th>\n",
              "      <th>Rating</th>\n",
              "    </tr>\n",
              "  </thead>\n",
              "  <tbody>\n",
              "    <tr>\n",
              "      <td>14230</td>\n",
              "      <td>Rakushou! Pachi-Slot Sengen 5: Rio Paradise</td>\n",
              "      <td>PS2</td>\n",
              "      <td>2007.0</td>\n",
              "      <td>Misc</td>\n",
              "      <td>0.00</td>\n",
              "      <td>0.00</td>\n",
              "      <td>0.03</td>\n",
              "      <td>0.00</td>\n",
              "      <td>NaN</td>\n",
              "      <td>NaN</td>\n",
              "      <td>NaN</td>\n",
              "    </tr>\n",
              "    <tr>\n",
              "      <td>14043</td>\n",
              "      <td>Nobunaga's Ambition II</td>\n",
              "      <td>3DS</td>\n",
              "      <td>2015.0</td>\n",
              "      <td>Strategy</td>\n",
              "      <td>0.00</td>\n",
              "      <td>0.00</td>\n",
              "      <td>0.04</td>\n",
              "      <td>0.00</td>\n",
              "      <td>NaN</td>\n",
              "      <td>NaN</td>\n",
              "      <td>NaN</td>\n",
              "    </tr>\n",
              "    <tr>\n",
              "      <td>3158</td>\n",
              "      <td>Up</td>\n",
              "      <td>DS</td>\n",
              "      <td>2009.0</td>\n",
              "      <td>Action</td>\n",
              "      <td>0.30</td>\n",
              "      <td>0.27</td>\n",
              "      <td>0.00</td>\n",
              "      <td>0.07</td>\n",
              "      <td>NaN</td>\n",
              "      <td>tbd</td>\n",
              "      <td>E</td>\n",
              "    </tr>\n",
              "    <tr>\n",
              "      <td>22</td>\n",
              "      <td>Super Mario Bros. 3</td>\n",
              "      <td>NES</td>\n",
              "      <td>1988.0</td>\n",
              "      <td>Platform</td>\n",
              "      <td>9.54</td>\n",
              "      <td>3.44</td>\n",
              "      <td>3.84</td>\n",
              "      <td>0.46</td>\n",
              "      <td>NaN</td>\n",
              "      <td>NaN</td>\n",
              "      <td>NaN</td>\n",
              "    </tr>\n",
              "    <tr>\n",
              "      <td>110</td>\n",
              "      <td>Mario Kart 8</td>\n",
              "      <td>WiiU</td>\n",
              "      <td>2014.0</td>\n",
              "      <td>Racing</td>\n",
              "      <td>3.15</td>\n",
              "      <td>2.15</td>\n",
              "      <td>1.28</td>\n",
              "      <td>0.51</td>\n",
              "      <td>88.0</td>\n",
              "      <td>9.1</td>\n",
              "      <td>E</td>\n",
              "    </tr>\n",
              "    <tr>\n",
              "      <td>1988</td>\n",
              "      <td>ATV: Quad Power Racing</td>\n",
              "      <td>PS</td>\n",
              "      <td>2000.0</td>\n",
              "      <td>Racing</td>\n",
              "      <td>0.58</td>\n",
              "      <td>0.39</td>\n",
              "      <td>0.00</td>\n",
              "      <td>0.07</td>\n",
              "      <td>42.0</td>\n",
              "      <td>tbd</td>\n",
              "      <td>E</td>\n",
              "    </tr>\n",
              "    <tr>\n",
              "      <td>7130</td>\n",
              "      <td>64 de Hakken! Tamagotchi Minna de Tamagotchi W...</td>\n",
              "      <td>N64</td>\n",
              "      <td>1997.0</td>\n",
              "      <td>Misc</td>\n",
              "      <td>0.00</td>\n",
              "      <td>0.00</td>\n",
              "      <td>0.22</td>\n",
              "      <td>0.00</td>\n",
              "      <td>NaN</td>\n",
              "      <td>NaN</td>\n",
              "      <td>NaN</td>\n",
              "    </tr>\n",
              "    <tr>\n",
              "      <td>8849</td>\n",
              "      <td>Derby Stallion 64</td>\n",
              "      <td>N64</td>\n",
              "      <td>2001.0</td>\n",
              "      <td>Sports</td>\n",
              "      <td>0.00</td>\n",
              "      <td>0.00</td>\n",
              "      <td>0.15</td>\n",
              "      <td>0.00</td>\n",
              "      <td>NaN</td>\n",
              "      <td>NaN</td>\n",
              "      <td>NaN</td>\n",
              "    </tr>\n",
              "    <tr>\n",
              "      <td>14602</td>\n",
              "      <td>Star Wars: The Force Unleashed II</td>\n",
              "      <td>PC</td>\n",
              "      <td>2010.0</td>\n",
              "      <td>Action</td>\n",
              "      <td>0.03</td>\n",
              "      <td>0.00</td>\n",
              "      <td>0.00</td>\n",
              "      <td>0.00</td>\n",
              "      <td>59.0</td>\n",
              "      <td>5.8</td>\n",
              "      <td>T</td>\n",
              "    </tr>\n",
              "    <tr>\n",
              "      <td>106</td>\n",
              "      <td>Tekken 3</td>\n",
              "      <td>PS</td>\n",
              "      <td>1998.0</td>\n",
              "      <td>Fighting</td>\n",
              "      <td>3.27</td>\n",
              "      <td>2.22</td>\n",
              "      <td>1.40</td>\n",
              "      <td>0.29</td>\n",
              "      <td>96.0</td>\n",
              "      <td>9.1</td>\n",
              "      <td>T</td>\n",
              "    </tr>\n",
              "    <tr>\n",
              "      <td>6113</td>\n",
              "      <td>Divinity: Original Sin</td>\n",
              "      <td>PS4</td>\n",
              "      <td>2015.0</td>\n",
              "      <td>Role-Playing</td>\n",
              "      <td>0.10</td>\n",
              "      <td>0.12</td>\n",
              "      <td>0.02</td>\n",
              "      <td>0.04</td>\n",
              "      <td>NaN</td>\n",
              "      <td>NaN</td>\n",
              "      <td>NaN</td>\n",
              "    </tr>\n",
              "    <tr>\n",
              "      <td>3270</td>\n",
              "      <td>NieR</td>\n",
              "      <td>PS3</td>\n",
              "      <td>2010.0</td>\n",
              "      <td>Role-Playing</td>\n",
              "      <td>0.17</td>\n",
              "      <td>0.18</td>\n",
              "      <td>0.20</td>\n",
              "      <td>0.07</td>\n",
              "      <td>68.0</td>\n",
              "      <td>8.4</td>\n",
              "      <td>M</td>\n",
              "    </tr>\n",
              "    <tr>\n",
              "      <td>14860</td>\n",
              "      <td>Under the Skin</td>\n",
              "      <td>PS2</td>\n",
              "      <td>2004.0</td>\n",
              "      <td>Action</td>\n",
              "      <td>0.01</td>\n",
              "      <td>0.01</td>\n",
              "      <td>0.00</td>\n",
              "      <td>0.00</td>\n",
              "      <td>55.0</td>\n",
              "      <td>tbd</td>\n",
              "      <td>T</td>\n",
              "    </tr>\n",
              "    <tr>\n",
              "      <td>7239</td>\n",
              "      <td>NBA Live 09 All-Play</td>\n",
              "      <td>Wii</td>\n",
              "      <td>2008.0</td>\n",
              "      <td>Sports</td>\n",
              "      <td>0.19</td>\n",
              "      <td>0.01</td>\n",
              "      <td>0.00</td>\n",
              "      <td>0.02</td>\n",
              "      <td>51.0</td>\n",
              "      <td>5.9</td>\n",
              "      <td>E</td>\n",
              "    </tr>\n",
              "    <tr>\n",
              "      <td>13248</td>\n",
              "      <td>Spitfire Heroes: Tales of the Royal Air Force</td>\n",
              "      <td>DS</td>\n",
              "      <td>2008.0</td>\n",
              "      <td>Simulation</td>\n",
              "      <td>0.05</td>\n",
              "      <td>0.00</td>\n",
              "      <td>0.00</td>\n",
              "      <td>0.00</td>\n",
              "      <td>49.0</td>\n",
              "      <td>tbd</td>\n",
              "      <td>E10+</td>\n",
              "    </tr>\n",
              "    <tr>\n",
              "      <td>4941</td>\n",
              "      <td>Tom Clancy's Ghost Recon 2: Summit Strike</td>\n",
              "      <td>XB</td>\n",
              "      <td>2005.0</td>\n",
              "      <td>Shooter</td>\n",
              "      <td>0.29</td>\n",
              "      <td>0.08</td>\n",
              "      <td>0.00</td>\n",
              "      <td>0.01</td>\n",
              "      <td>84.0</td>\n",
              "      <td>7.2</td>\n",
              "      <td>T</td>\n",
              "    </tr>\n",
              "    <tr>\n",
              "      <td>5997</td>\n",
              "      <td>TouchMaster: Connect</td>\n",
              "      <td>DS</td>\n",
              "      <td>2010.0</td>\n",
              "      <td>Puzzle</td>\n",
              "      <td>0.10</td>\n",
              "      <td>0.16</td>\n",
              "      <td>0.00</td>\n",
              "      <td>0.03</td>\n",
              "      <td>NaN</td>\n",
              "      <td>tbd</td>\n",
              "      <td>E</td>\n",
              "    </tr>\n",
              "    <tr>\n",
              "      <td>13866</td>\n",
              "      <td>Ookami to Koushinryou: Boku to Horo no Ichinen</td>\n",
              "      <td>DS</td>\n",
              "      <td>2008.0</td>\n",
              "      <td>Adventure</td>\n",
              "      <td>0.00</td>\n",
              "      <td>0.00</td>\n",
              "      <td>0.04</td>\n",
              "      <td>0.00</td>\n",
              "      <td>NaN</td>\n",
              "      <td>NaN</td>\n",
              "      <td>NaN</td>\n",
              "    </tr>\n",
              "    <tr>\n",
              "      <td>14530</td>\n",
              "      <td>DokiDoki Majo Shinpan! 2</td>\n",
              "      <td>DS</td>\n",
              "      <td>2008.0</td>\n",
              "      <td>Adventure</td>\n",
              "      <td>0.00</td>\n",
              "      <td>0.00</td>\n",
              "      <td>0.03</td>\n",
              "      <td>0.00</td>\n",
              "      <td>NaN</td>\n",
              "      <td>NaN</td>\n",
              "      <td>NaN</td>\n",
              "    </tr>\n",
              "    <tr>\n",
              "      <td>4634</td>\n",
              "      <td>Spec Ops: The Line</td>\n",
              "      <td>X360</td>\n",
              "      <td>2012.0</td>\n",
              "      <td>Shooter</td>\n",
              "      <td>0.21</td>\n",
              "      <td>0.17</td>\n",
              "      <td>0.00</td>\n",
              "      <td>0.04</td>\n",
              "      <td>76.0</td>\n",
              "      <td>8.2</td>\n",
              "      <td>M</td>\n",
              "    </tr>\n",
              "  </tbody>\n",
              "</table>\n",
              "</div>"
            ],
            "text/plain": [
              "                                                    Name Platform  \\\n",
              "14230        Rakushou! Pachi-Slot Sengen 5: Rio Paradise      PS2   \n",
              "14043                             Nobunaga's Ambition II      3DS   \n",
              "3158                                                  Up       DS   \n",
              "22                                   Super Mario Bros. 3      NES   \n",
              "110                                         Mario Kart 8     WiiU   \n",
              "1988                              ATV: Quad Power Racing       PS   \n",
              "7130   64 de Hakken! Tamagotchi Minna de Tamagotchi W...      N64   \n",
              "8849                                   Derby Stallion 64      N64   \n",
              "14602                  Star Wars: The Force Unleashed II       PC   \n",
              "106                                             Tekken 3       PS   \n",
              "6113                              Divinity: Original Sin      PS4   \n",
              "3270                                                NieR      PS3   \n",
              "14860                                     Under the Skin      PS2   \n",
              "7239                                NBA Live 09 All-Play      Wii   \n",
              "13248      Spitfire Heroes: Tales of the Royal Air Force       DS   \n",
              "4941           Tom Clancy's Ghost Recon 2: Summit Strike       XB   \n",
              "5997                                TouchMaster: Connect       DS   \n",
              "13866     Ookami to Koushinryou: Boku to Horo no Ichinen       DS   \n",
              "14530                           DokiDoki Majo Shinpan! 2       DS   \n",
              "4634                                  Spec Ops: The Line     X360   \n",
              "\n",
              "       Year_of_Release         Genre  NA_sales  EU_sales  JP_sales  \\\n",
              "14230           2007.0          Misc      0.00      0.00      0.03   \n",
              "14043           2015.0      Strategy      0.00      0.00      0.04   \n",
              "3158            2009.0        Action      0.30      0.27      0.00   \n",
              "22              1988.0      Platform      9.54      3.44      3.84   \n",
              "110             2014.0        Racing      3.15      2.15      1.28   \n",
              "1988            2000.0        Racing      0.58      0.39      0.00   \n",
              "7130            1997.0          Misc      0.00      0.00      0.22   \n",
              "8849            2001.0        Sports      0.00      0.00      0.15   \n",
              "14602           2010.0        Action      0.03      0.00      0.00   \n",
              "106             1998.0      Fighting      3.27      2.22      1.40   \n",
              "6113            2015.0  Role-Playing      0.10      0.12      0.02   \n",
              "3270            2010.0  Role-Playing      0.17      0.18      0.20   \n",
              "14860           2004.0        Action      0.01      0.01      0.00   \n",
              "7239            2008.0        Sports      0.19      0.01      0.00   \n",
              "13248           2008.0    Simulation      0.05      0.00      0.00   \n",
              "4941            2005.0       Shooter      0.29      0.08      0.00   \n",
              "5997            2010.0        Puzzle      0.10      0.16      0.00   \n",
              "13866           2008.0     Adventure      0.00      0.00      0.04   \n",
              "14530           2008.0     Adventure      0.00      0.00      0.03   \n",
              "4634            2012.0       Shooter      0.21      0.17      0.00   \n",
              "\n",
              "       Other_sales  Critic_Score User_Score Rating  \n",
              "14230         0.00           NaN        NaN    NaN  \n",
              "14043         0.00           NaN        NaN    NaN  \n",
              "3158          0.07           NaN        tbd      E  \n",
              "22            0.46           NaN        NaN    NaN  \n",
              "110           0.51          88.0        9.1      E  \n",
              "1988          0.07          42.0        tbd      E  \n",
              "7130          0.00           NaN        NaN    NaN  \n",
              "8849          0.00           NaN        NaN    NaN  \n",
              "14602         0.00          59.0        5.8      T  \n",
              "106           0.29          96.0        9.1      T  \n",
              "6113          0.04           NaN        NaN    NaN  \n",
              "3270          0.07          68.0        8.4      M  \n",
              "14860         0.00          55.0        tbd      T  \n",
              "7239          0.02          51.0        5.9      E  \n",
              "13248         0.00          49.0        tbd   E10+  \n",
              "4941          0.01          84.0        7.2      T  \n",
              "5997          0.03           NaN        tbd      E  \n",
              "13866         0.00           NaN        NaN    NaN  \n",
              "14530         0.00           NaN        NaN    NaN  \n",
              "4634          0.04          76.0        8.2      M  "
            ]
          },
          "metadata": {},
          "output_type": "display_data"
        }
      ]
    },
    {
      "cell_type": "code",
      "metadata": {
        "colab": {
          "base_uri": "https://localhost:8080/"
        },
        "id": "dZXEyJjERKP9",
        "outputId": "853d2e10-da1a-42ba-8eb2-8349dc1bc578"
      },
      "source": [
        "df.info()"
      ],
      "execution_count": null,
      "outputs": [
        {
          "name": "stdout",
          "output_type": "stream",
          "text": [
            "<class 'pandas.core.frame.DataFrame'>\n",
            "RangeIndex: 16715 entries, 0 to 16714\n",
            "Data columns (total 11 columns):\n",
            "Name               16713 non-null object\n",
            "Platform           16715 non-null object\n",
            "Year_of_Release    16446 non-null float64\n",
            "Genre              16713 non-null object\n",
            "NA_sales           16715 non-null float64\n",
            "EU_sales           16715 non-null float64\n",
            "JP_sales           16715 non-null float64\n",
            "Other_sales        16715 non-null float64\n",
            "Critic_Score       8137 non-null float64\n",
            "User_Score         10014 non-null object\n",
            "Rating             9949 non-null object\n",
            "dtypes: float64(6), object(5)\n",
            "memory usage: 1.4+ MB\n"
          ]
        }
      ]
    },
    {
      "cell_type": "code",
      "metadata": {
        "colab": {
          "base_uri": "https://localhost:8080/",
          "height": 297
        },
        "id": "UugGc7AIRKVY",
        "outputId": "c80f2cb6-cf91-4df6-be04-8cbef00f2a7e"
      },
      "source": [
        "df.describe()"
      ],
      "execution_count": null,
      "outputs": [
        {
          "data": {
            "text/html": [
              "<div>\n",
              "<style scoped>\n",
              "    .dataframe tbody tr th:only-of-type {\n",
              "        vertical-align: middle;\n",
              "    }\n",
              "\n",
              "    .dataframe tbody tr th {\n",
              "        vertical-align: top;\n",
              "    }\n",
              "\n",
              "    .dataframe thead th {\n",
              "        text-align: right;\n",
              "    }\n",
              "</style>\n",
              "<table border=\"1\" class=\"dataframe\">\n",
              "  <thead>\n",
              "    <tr style=\"text-align: right;\">\n",
              "      <th></th>\n",
              "      <th>Year_of_Release</th>\n",
              "      <th>NA_sales</th>\n",
              "      <th>EU_sales</th>\n",
              "      <th>JP_sales</th>\n",
              "      <th>Other_sales</th>\n",
              "      <th>Critic_Score</th>\n",
              "    </tr>\n",
              "  </thead>\n",
              "  <tbody>\n",
              "    <tr>\n",
              "      <td>count</td>\n",
              "      <td>16446.000000</td>\n",
              "      <td>16715.000000</td>\n",
              "      <td>16715.000000</td>\n",
              "      <td>16715.000000</td>\n",
              "      <td>16715.000000</td>\n",
              "      <td>8137.000000</td>\n",
              "    </tr>\n",
              "    <tr>\n",
              "      <td>mean</td>\n",
              "      <td>2006.484616</td>\n",
              "      <td>0.263377</td>\n",
              "      <td>0.145060</td>\n",
              "      <td>0.077617</td>\n",
              "      <td>0.047342</td>\n",
              "      <td>68.967679</td>\n",
              "    </tr>\n",
              "    <tr>\n",
              "      <td>std</td>\n",
              "      <td>5.877050</td>\n",
              "      <td>0.813604</td>\n",
              "      <td>0.503339</td>\n",
              "      <td>0.308853</td>\n",
              "      <td>0.186731</td>\n",
              "      <td>13.938165</td>\n",
              "    </tr>\n",
              "    <tr>\n",
              "      <td>min</td>\n",
              "      <td>1980.000000</td>\n",
              "      <td>0.000000</td>\n",
              "      <td>0.000000</td>\n",
              "      <td>0.000000</td>\n",
              "      <td>0.000000</td>\n",
              "      <td>13.000000</td>\n",
              "    </tr>\n",
              "    <tr>\n",
              "      <td>25%</td>\n",
              "      <td>2003.000000</td>\n",
              "      <td>0.000000</td>\n",
              "      <td>0.000000</td>\n",
              "      <td>0.000000</td>\n",
              "      <td>0.000000</td>\n",
              "      <td>60.000000</td>\n",
              "    </tr>\n",
              "    <tr>\n",
              "      <td>50%</td>\n",
              "      <td>2007.000000</td>\n",
              "      <td>0.080000</td>\n",
              "      <td>0.020000</td>\n",
              "      <td>0.000000</td>\n",
              "      <td>0.010000</td>\n",
              "      <td>71.000000</td>\n",
              "    </tr>\n",
              "    <tr>\n",
              "      <td>75%</td>\n",
              "      <td>2010.000000</td>\n",
              "      <td>0.240000</td>\n",
              "      <td>0.110000</td>\n",
              "      <td>0.040000</td>\n",
              "      <td>0.030000</td>\n",
              "      <td>79.000000</td>\n",
              "    </tr>\n",
              "    <tr>\n",
              "      <td>max</td>\n",
              "      <td>2016.000000</td>\n",
              "      <td>41.360000</td>\n",
              "      <td>28.960000</td>\n",
              "      <td>10.220000</td>\n",
              "      <td>10.570000</td>\n",
              "      <td>98.000000</td>\n",
              "    </tr>\n",
              "  </tbody>\n",
              "</table>\n",
              "</div>"
            ],
            "text/plain": [
              "       Year_of_Release      NA_sales      EU_sales      JP_sales  \\\n",
              "count     16446.000000  16715.000000  16715.000000  16715.000000   \n",
              "mean       2006.484616      0.263377      0.145060      0.077617   \n",
              "std           5.877050      0.813604      0.503339      0.308853   \n",
              "min        1980.000000      0.000000      0.000000      0.000000   \n",
              "25%        2003.000000      0.000000      0.000000      0.000000   \n",
              "50%        2007.000000      0.080000      0.020000      0.000000   \n",
              "75%        2010.000000      0.240000      0.110000      0.040000   \n",
              "max        2016.000000     41.360000     28.960000     10.220000   \n",
              "\n",
              "        Other_sales  Critic_Score  \n",
              "count  16715.000000   8137.000000  \n",
              "mean       0.047342     68.967679  \n",
              "std        0.186731     13.938165  \n",
              "min        0.000000     13.000000  \n",
              "25%        0.000000     60.000000  \n",
              "50%        0.010000     71.000000  \n",
              "75%        0.030000     79.000000  \n",
              "max       10.570000     98.000000  "
            ]
          },
          "execution_count": 400,
          "metadata": {},
          "output_type": "execute_result"
        }
      ]
    },
    {
      "cell_type": "markdown",
      "metadata": {
        "id": "lL1Xs54VTfEC"
      },
      "source": [
        "Над чем следует поработать:\n",
        "\n",
        "-привести названия столбцов к нижнему регистру,\n",
        "\n",
        "-Year_of_Release, привести к типу int,\n",
        "\n",
        "-выяснить, что делать с tbd в User_Score,\n",
        "\n",
        "-посчитать и при необходимости обработать пропуски."
      ]
    },
    {
      "cell_type": "markdown",
      "metadata": {
        "id": "6SabJVWdV_53"
      },
      "source": [
        "**2. Подготовка данных**\n",
        "\n"
      ]
    },
    {
      "cell_type": "markdown",
      "metadata": {
        "id": "poN6HW-HYvB6"
      },
      "source": [
        "Приведем названия столбцов к нижнему регистру:"
      ]
    },
    {
      "cell_type": "code",
      "metadata": {
        "colab": {
          "base_uri": "https://localhost:8080/",
          "height": 204
        },
        "id": "oUYlI3IMNbX9",
        "outputId": "4bdd8277-27a6-417a-8032-3e93327c87b6"
      },
      "source": [
        "df.columns = df.columns.str.lower()\n",
        "df.head(5)"
      ],
      "execution_count": null,
      "outputs": [
        {
          "data": {
            "text/html": [
              "<div>\n",
              "<style scoped>\n",
              "    .dataframe tbody tr th:only-of-type {\n",
              "        vertical-align: middle;\n",
              "    }\n",
              "\n",
              "    .dataframe tbody tr th {\n",
              "        vertical-align: top;\n",
              "    }\n",
              "\n",
              "    .dataframe thead th {\n",
              "        text-align: right;\n",
              "    }\n",
              "</style>\n",
              "<table border=\"1\" class=\"dataframe\">\n",
              "  <thead>\n",
              "    <tr style=\"text-align: right;\">\n",
              "      <th></th>\n",
              "      <th>name</th>\n",
              "      <th>platform</th>\n",
              "      <th>year_of_release</th>\n",
              "      <th>genre</th>\n",
              "      <th>na_sales</th>\n",
              "      <th>eu_sales</th>\n",
              "      <th>jp_sales</th>\n",
              "      <th>other_sales</th>\n",
              "      <th>critic_score</th>\n",
              "      <th>user_score</th>\n",
              "      <th>rating</th>\n",
              "    </tr>\n",
              "  </thead>\n",
              "  <tbody>\n",
              "    <tr>\n",
              "      <td>0</td>\n",
              "      <td>Wii Sports</td>\n",
              "      <td>Wii</td>\n",
              "      <td>2006.0</td>\n",
              "      <td>Sports</td>\n",
              "      <td>41.36</td>\n",
              "      <td>28.96</td>\n",
              "      <td>3.77</td>\n",
              "      <td>8.45</td>\n",
              "      <td>76.0</td>\n",
              "      <td>8</td>\n",
              "      <td>E</td>\n",
              "    </tr>\n",
              "    <tr>\n",
              "      <td>1</td>\n",
              "      <td>Super Mario Bros.</td>\n",
              "      <td>NES</td>\n",
              "      <td>1985.0</td>\n",
              "      <td>Platform</td>\n",
              "      <td>29.08</td>\n",
              "      <td>3.58</td>\n",
              "      <td>6.81</td>\n",
              "      <td>0.77</td>\n",
              "      <td>NaN</td>\n",
              "      <td>NaN</td>\n",
              "      <td>NaN</td>\n",
              "    </tr>\n",
              "    <tr>\n",
              "      <td>2</td>\n",
              "      <td>Mario Kart Wii</td>\n",
              "      <td>Wii</td>\n",
              "      <td>2008.0</td>\n",
              "      <td>Racing</td>\n",
              "      <td>15.68</td>\n",
              "      <td>12.76</td>\n",
              "      <td>3.79</td>\n",
              "      <td>3.29</td>\n",
              "      <td>82.0</td>\n",
              "      <td>8.3</td>\n",
              "      <td>E</td>\n",
              "    </tr>\n",
              "    <tr>\n",
              "      <td>3</td>\n",
              "      <td>Wii Sports Resort</td>\n",
              "      <td>Wii</td>\n",
              "      <td>2009.0</td>\n",
              "      <td>Sports</td>\n",
              "      <td>15.61</td>\n",
              "      <td>10.93</td>\n",
              "      <td>3.28</td>\n",
              "      <td>2.95</td>\n",
              "      <td>80.0</td>\n",
              "      <td>8</td>\n",
              "      <td>E</td>\n",
              "    </tr>\n",
              "    <tr>\n",
              "      <td>4</td>\n",
              "      <td>Pokemon Red/Pokemon Blue</td>\n",
              "      <td>GB</td>\n",
              "      <td>1996.0</td>\n",
              "      <td>Role-Playing</td>\n",
              "      <td>11.27</td>\n",
              "      <td>8.89</td>\n",
              "      <td>10.22</td>\n",
              "      <td>1.00</td>\n",
              "      <td>NaN</td>\n",
              "      <td>NaN</td>\n",
              "      <td>NaN</td>\n",
              "    </tr>\n",
              "  </tbody>\n",
              "</table>\n",
              "</div>"
            ],
            "text/plain": [
              "                       name platform  year_of_release         genre  na_sales  \\\n",
              "0                Wii Sports      Wii           2006.0        Sports     41.36   \n",
              "1         Super Mario Bros.      NES           1985.0      Platform     29.08   \n",
              "2            Mario Kart Wii      Wii           2008.0        Racing     15.68   \n",
              "3         Wii Sports Resort      Wii           2009.0        Sports     15.61   \n",
              "4  Pokemon Red/Pokemon Blue       GB           1996.0  Role-Playing     11.27   \n",
              "\n",
              "   eu_sales  jp_sales  other_sales  critic_score user_score rating  \n",
              "0     28.96      3.77         8.45          76.0          8      E  \n",
              "1      3.58      6.81         0.77           NaN        NaN    NaN  \n",
              "2     12.76      3.79         3.29          82.0        8.3      E  \n",
              "3     10.93      3.28         2.95          80.0          8      E  \n",
              "4      8.89     10.22         1.00           NaN        NaN    NaN  "
            ]
          },
          "execution_count": 401,
          "metadata": {},
          "output_type": "execute_result"
        }
      ]
    },
    {
      "cell_type": "markdown",
      "metadata": {
        "id": "zcKYZcH3acY-"
      },
      "source": [
        "Посмотрим на долю пропущенных значений в ДФ:"
      ]
    },
    {
      "cell_type": "code",
      "metadata": {
        "colab": {
          "base_uri": "https://localhost:8080/",
          "height": 271
        },
        "id": "Ju849FKdZ_fb",
        "outputId": "fb63b51d-93cb-47ce-8866-4e93ec1f48d4"
      },
      "source": [
        "pd.DataFrame(round((df.isna().mean()*100),2)).style.background_gradient('coolwarm')"
      ],
      "execution_count": null,
      "outputs": [
        {
          "data": {
            "text/html": [
              "<style  type=\"text/css\" >\n",
              "    #T_0187effc_b50b_11eb_bf5a_02420a394104row0_col0 {\n",
              "            background-color:  #3b4cc0;\n",
              "            color:  #f1f1f1;\n",
              "        }    #T_0187effc_b50b_11eb_bf5a_02420a394104row1_col0 {\n",
              "            background-color:  #3b4cc0;\n",
              "            color:  #f1f1f1;\n",
              "        }    #T_0187effc_b50b_11eb_bf5a_02420a394104row2_col0 {\n",
              "            background-color:  #445acc;\n",
              "            color:  #f1f1f1;\n",
              "        }    #T_0187effc_b50b_11eb_bf5a_02420a394104row3_col0 {\n",
              "            background-color:  #3b4cc0;\n",
              "            color:  #f1f1f1;\n",
              "        }    #T_0187effc_b50b_11eb_bf5a_02420a394104row4_col0 {\n",
              "            background-color:  #3b4cc0;\n",
              "            color:  #f1f1f1;\n",
              "        }    #T_0187effc_b50b_11eb_bf5a_02420a394104row5_col0 {\n",
              "            background-color:  #3b4cc0;\n",
              "            color:  #f1f1f1;\n",
              "        }    #T_0187effc_b50b_11eb_bf5a_02420a394104row6_col0 {\n",
              "            background-color:  #3b4cc0;\n",
              "            color:  #f1f1f1;\n",
              "        }    #T_0187effc_b50b_11eb_bf5a_02420a394104row7_col0 {\n",
              "            background-color:  #3b4cc0;\n",
              "            color:  #f1f1f1;\n",
              "        }    #T_0187effc_b50b_11eb_bf5a_02420a394104row8_col0 {\n",
              "            background-color:  #b40426;\n",
              "            color:  #f1f1f1;\n",
              "        }    #T_0187effc_b50b_11eb_bf5a_02420a394104row9_col0 {\n",
              "            background-color:  #f18d6f;\n",
              "            color:  #000000;\n",
              "        }    #T_0187effc_b50b_11eb_bf5a_02420a394104row10_col0 {\n",
              "            background-color:  #f08a6c;\n",
              "            color:  #000000;\n",
              "        }</style><table id=\"T_0187effc_b50b_11eb_bf5a_02420a394104\" ><thead>    <tr>        <th class=\"blank level0\" ></th>        <th class=\"col_heading level0 col0\" >0</th>    </tr></thead><tbody>\n",
              "                <tr>\n",
              "                        <th id=\"T_0187effc_b50b_11eb_bf5a_02420a394104level0_row0\" class=\"row_heading level0 row0\" >name</th>\n",
              "                        <td id=\"T_0187effc_b50b_11eb_bf5a_02420a394104row0_col0\" class=\"data row0 col0\" >0.01</td>\n",
              "            </tr>\n",
              "            <tr>\n",
              "                        <th id=\"T_0187effc_b50b_11eb_bf5a_02420a394104level0_row1\" class=\"row_heading level0 row1\" >platform</th>\n",
              "                        <td id=\"T_0187effc_b50b_11eb_bf5a_02420a394104row1_col0\" class=\"data row1 col0\" >0</td>\n",
              "            </tr>\n",
              "            <tr>\n",
              "                        <th id=\"T_0187effc_b50b_11eb_bf5a_02420a394104level0_row2\" class=\"row_heading level0 row2\" >year_of_release</th>\n",
              "                        <td id=\"T_0187effc_b50b_11eb_bf5a_02420a394104row2_col0\" class=\"data row2 col0\" >1.61</td>\n",
              "            </tr>\n",
              "            <tr>\n",
              "                        <th id=\"T_0187effc_b50b_11eb_bf5a_02420a394104level0_row3\" class=\"row_heading level0 row3\" >genre</th>\n",
              "                        <td id=\"T_0187effc_b50b_11eb_bf5a_02420a394104row3_col0\" class=\"data row3 col0\" >0.01</td>\n",
              "            </tr>\n",
              "            <tr>\n",
              "                        <th id=\"T_0187effc_b50b_11eb_bf5a_02420a394104level0_row4\" class=\"row_heading level0 row4\" >na_sales</th>\n",
              "                        <td id=\"T_0187effc_b50b_11eb_bf5a_02420a394104row4_col0\" class=\"data row4 col0\" >0</td>\n",
              "            </tr>\n",
              "            <tr>\n",
              "                        <th id=\"T_0187effc_b50b_11eb_bf5a_02420a394104level0_row5\" class=\"row_heading level0 row5\" >eu_sales</th>\n",
              "                        <td id=\"T_0187effc_b50b_11eb_bf5a_02420a394104row5_col0\" class=\"data row5 col0\" >0</td>\n",
              "            </tr>\n",
              "            <tr>\n",
              "                        <th id=\"T_0187effc_b50b_11eb_bf5a_02420a394104level0_row6\" class=\"row_heading level0 row6\" >jp_sales</th>\n",
              "                        <td id=\"T_0187effc_b50b_11eb_bf5a_02420a394104row6_col0\" class=\"data row6 col0\" >0</td>\n",
              "            </tr>\n",
              "            <tr>\n",
              "                        <th id=\"T_0187effc_b50b_11eb_bf5a_02420a394104level0_row7\" class=\"row_heading level0 row7\" >other_sales</th>\n",
              "                        <td id=\"T_0187effc_b50b_11eb_bf5a_02420a394104row7_col0\" class=\"data row7 col0\" >0</td>\n",
              "            </tr>\n",
              "            <tr>\n",
              "                        <th id=\"T_0187effc_b50b_11eb_bf5a_02420a394104level0_row8\" class=\"row_heading level0 row8\" >critic_score</th>\n",
              "                        <td id=\"T_0187effc_b50b_11eb_bf5a_02420a394104row8_col0\" class=\"data row8 col0\" >51.32</td>\n",
              "            </tr>\n",
              "            <tr>\n",
              "                        <th id=\"T_0187effc_b50b_11eb_bf5a_02420a394104level0_row9\" class=\"row_heading level0 row9\" >user_score</th>\n",
              "                        <td id=\"T_0187effc_b50b_11eb_bf5a_02420a394104row9_col0\" class=\"data row9 col0\" >40.09</td>\n",
              "            </tr>\n",
              "            <tr>\n",
              "                        <th id=\"T_0187effc_b50b_11eb_bf5a_02420a394104level0_row10\" class=\"row_heading level0 row10\" >rating</th>\n",
              "                        <td id=\"T_0187effc_b50b_11eb_bf5a_02420a394104row10_col0\" class=\"data row10 col0\" >40.48</td>\n",
              "            </tr>\n",
              "    </tbody></table>"
            ],
            "text/plain": [
              "<pandas.io.formats.style.Styler at 0x7f87fd246d50>"
            ]
          },
          "execution_count": 402,
          "metadata": {},
          "output_type": "execute_result"
        }
      ]
    },
    {
      "cell_type": "markdown",
      "metadata": {
        "id": "OKhcNruEauUT"
      },
      "source": [
        "Как мы видим, в оценках и рейтинге доля пропусков 40% и 51%, это слишком много, их удаление приведет к искажению данных."
      ]
    },
    {
      "cell_type": "markdown",
      "metadata": {
        "id": "22Mx-GJjY2tw"
      },
      "source": [
        "Приведем год выпуска к целочисленному виду, а пропуски заменим на любой год, не входящий в наш интервал, например, 2222: "
      ]
    },
    {
      "cell_type": "code",
      "metadata": {
        "id": "1pGimfC0Q2u8"
      },
      "source": [
        "df['year_of_release'] = df['year_of_release'].fillna(2222)"
      ],
      "execution_count": null,
      "outputs": []
    },
    {
      "cell_type": "code",
      "metadata": {
        "id": "ImVBojnqOM1r",
        "outputId": "dc28a98b-6173-47e1-c2f3-c0af9c142437"
      },
      "source": [
        "df['year_of_release'] = df['year_of_release'].astype('int')\n",
        "df.head(5)"
      ],
      "execution_count": null,
      "outputs": [
        {
          "data": {
            "text/html": [
              "<div>\n",
              "<style scoped>\n",
              "    .dataframe tbody tr th:only-of-type {\n",
              "        vertical-align: middle;\n",
              "    }\n",
              "\n",
              "    .dataframe tbody tr th {\n",
              "        vertical-align: top;\n",
              "    }\n",
              "\n",
              "    .dataframe thead th {\n",
              "        text-align: right;\n",
              "    }\n",
              "</style>\n",
              "<table border=\"1\" class=\"dataframe\">\n",
              "  <thead>\n",
              "    <tr style=\"text-align: right;\">\n",
              "      <th></th>\n",
              "      <th>name</th>\n",
              "      <th>platform</th>\n",
              "      <th>year_of_release</th>\n",
              "      <th>genre</th>\n",
              "      <th>na_sales</th>\n",
              "      <th>eu_sales</th>\n",
              "      <th>jp_sales</th>\n",
              "      <th>other_sales</th>\n",
              "      <th>critic_score</th>\n",
              "      <th>user_score</th>\n",
              "      <th>rating</th>\n",
              "    </tr>\n",
              "  </thead>\n",
              "  <tbody>\n",
              "    <tr>\n",
              "      <td>0</td>\n",
              "      <td>Wii Sports</td>\n",
              "      <td>Wii</td>\n",
              "      <td>2006</td>\n",
              "      <td>Sports</td>\n",
              "      <td>41.36</td>\n",
              "      <td>28.96</td>\n",
              "      <td>3.77</td>\n",
              "      <td>8.45</td>\n",
              "      <td>76.0</td>\n",
              "      <td>8</td>\n",
              "      <td>E</td>\n",
              "    </tr>\n",
              "    <tr>\n",
              "      <td>1</td>\n",
              "      <td>Super Mario Bros.</td>\n",
              "      <td>NES</td>\n",
              "      <td>1985</td>\n",
              "      <td>Platform</td>\n",
              "      <td>29.08</td>\n",
              "      <td>3.58</td>\n",
              "      <td>6.81</td>\n",
              "      <td>0.77</td>\n",
              "      <td>NaN</td>\n",
              "      <td>NaN</td>\n",
              "      <td>NaN</td>\n",
              "    </tr>\n",
              "    <tr>\n",
              "      <td>2</td>\n",
              "      <td>Mario Kart Wii</td>\n",
              "      <td>Wii</td>\n",
              "      <td>2008</td>\n",
              "      <td>Racing</td>\n",
              "      <td>15.68</td>\n",
              "      <td>12.76</td>\n",
              "      <td>3.79</td>\n",
              "      <td>3.29</td>\n",
              "      <td>82.0</td>\n",
              "      <td>8.3</td>\n",
              "      <td>E</td>\n",
              "    </tr>\n",
              "    <tr>\n",
              "      <td>3</td>\n",
              "      <td>Wii Sports Resort</td>\n",
              "      <td>Wii</td>\n",
              "      <td>2009</td>\n",
              "      <td>Sports</td>\n",
              "      <td>15.61</td>\n",
              "      <td>10.93</td>\n",
              "      <td>3.28</td>\n",
              "      <td>2.95</td>\n",
              "      <td>80.0</td>\n",
              "      <td>8</td>\n",
              "      <td>E</td>\n",
              "    </tr>\n",
              "    <tr>\n",
              "      <td>4</td>\n",
              "      <td>Pokemon Red/Pokemon Blue</td>\n",
              "      <td>GB</td>\n",
              "      <td>1996</td>\n",
              "      <td>Role-Playing</td>\n",
              "      <td>11.27</td>\n",
              "      <td>8.89</td>\n",
              "      <td>10.22</td>\n",
              "      <td>1.00</td>\n",
              "      <td>NaN</td>\n",
              "      <td>NaN</td>\n",
              "      <td>NaN</td>\n",
              "    </tr>\n",
              "  </tbody>\n",
              "</table>\n",
              "</div>"
            ],
            "text/plain": [
              "                       name platform  year_of_release         genre  na_sales  \\\n",
              "0                Wii Sports      Wii             2006        Sports     41.36   \n",
              "1         Super Mario Bros.      NES             1985      Platform     29.08   \n",
              "2            Mario Kart Wii      Wii             2008        Racing     15.68   \n",
              "3         Wii Sports Resort      Wii             2009        Sports     15.61   \n",
              "4  Pokemon Red/Pokemon Blue       GB             1996  Role-Playing     11.27   \n",
              "\n",
              "   eu_sales  jp_sales  other_sales  critic_score user_score rating  \n",
              "0     28.96      3.77         8.45          76.0          8      E  \n",
              "1      3.58      6.81         0.77           NaN        NaN    NaN  \n",
              "2     12.76      3.79         3.29          82.0        8.3      E  \n",
              "3     10.93      3.28         2.95          80.0          8      E  \n",
              "4      8.89     10.22         1.00           NaN        NaN    NaN  "
            ]
          },
          "execution_count": 404,
          "metadata": {},
          "output_type": "execute_result"
        }
      ]
    },
    {
      "cell_type": "markdown",
      "metadata": {
        "id": "ehinjnrxcYw2"
      },
      "source": [
        "Чем заполнять пропуски в оценках и рейтингах? Чтобы избежать путаницы с оценками, равыми нулю, заполним пропуски -1, и будем это учитывать в дальнейшем анализе."
      ]
    },
    {
      "cell_type": "code",
      "metadata": {
        "colab": {
          "base_uri": "https://localhost:8080/"
        },
        "id": "8yE3o-4bewiD",
        "outputId": "62b5f53e-9202-4b3b-f756-0fe35f0e3128"
      },
      "source": [
        "df[df['user_score'] == 'tbd']['user_score'].count()"
      ],
      "execution_count": null,
      "outputs": [
        {
          "data": {
            "text/plain": [
              "2424"
            ]
          },
          "execution_count": 405,
          "metadata": {},
          "output_type": "execute_result"
        }
      ]
    },
    {
      "cell_type": "markdown",
      "metadata": {
        "id": "rjw6k-BNdd3z"
      },
      "source": [
        "tbd - To Be Determined. Пишется тогда, когда игра имеет недостаточное количество отзывов для подсчета рейтинга пользователей и его публикации. По сути, мы имеем тот же пропуск. \n"
      ]
    },
    {
      "cell_type": "code",
      "metadata": {
        "id": "UVR0ZnBfdVjW",
        "outputId": "332b9b7d-28f7-4106-c868-68a08db793c2"
      },
      "source": [
        "\n",
        "df['user_score'] = pd.to_numeric(df['user_score'], errors='coerce')\n",
        "df['user_score'].unique()"
      ],
      "execution_count": null,
      "outputs": [
        {
          "data": {
            "text/plain": [
              "array([8. , nan, 8.3, 8.5, 6.6, 8.4, 8.6, 7.7, 6.3, 7.4, 8.2, 9. , 7.9,\n",
              "       8.1, 8.7, 7.1, 3.4, 5.3, 4.8, 3.2, 8.9, 6.4, 7.8, 7.5, 2.6, 7.2,\n",
              "       9.2, 7. , 7.3, 4.3, 7.6, 5.7, 5. , 9.1, 6.5, 8.8, 6.9, 9.4, 6.8,\n",
              "       6.1, 6.7, 5.4, 4. , 4.9, 4.5, 9.3, 6.2, 4.2, 6. , 3.7, 4.1, 5.8,\n",
              "       5.6, 5.5, 4.4, 4.6, 5.9, 3.9, 3.1, 2.9, 5.2, 3.3, 4.7, 5.1, 3.5,\n",
              "       2.5, 1.9, 3. , 2.7, 2.2, 2. , 9.5, 2.1, 3.6, 2.8, 1.8, 3.8, 0. ,\n",
              "       1.6, 9.6, 2.4, 1.7, 1.1, 0.3, 1.5, 0.7, 1.2, 2.3, 0.5, 1.3, 0.2,\n",
              "       0.6, 1.4, 0.9, 1. , 9.7])"
            ]
          },
          "execution_count": 406,
          "metadata": {},
          "output_type": "execute_result"
        }
      ]
    },
    {
      "cell_type": "code",
      "metadata": {
        "id": "w_x_uwOEfwiq",
        "outputId": "7cd58963-863f-4bb7-df70-ac9ac71ded6a"
      },
      "source": [
        "df['rating'] = df['rating'].fillna('undefined')\n",
        "df['rating'].unique()"
      ],
      "execution_count": null,
      "outputs": [
        {
          "data": {
            "text/plain": [
              "array(['E', 'undefined', 'M', 'T', 'E10+', 'K-A', 'AO', 'EC', 'RP'],\n",
              "      dtype=object)"
            ]
          },
          "execution_count": 407,
          "metadata": {},
          "output_type": "execute_result"
        }
      ]
    },
    {
      "cell_type": "markdown",
      "metadata": {
        "id": "AF88vEkilRv5"
      },
      "source": [
        "Рейтинг маркируют буквами, соответствующими возрастам, поэтому мы видим тип object. Удалим 2 игры без имени и жанра."
      ]
    },
    {
      "cell_type": "code",
      "metadata": {
        "colab": {
          "base_uri": "https://localhost:8080/"
        },
        "id": "QnS-IGozlJaH",
        "outputId": "9fafaefd-d217-477c-9d43-b556a159a24f"
      },
      "source": [
        "df.dropna(subset=['name'], inplace=True)\n",
        "df.info()"
      ],
      "execution_count": null,
      "outputs": [
        {
          "name": "stdout",
          "output_type": "stream",
          "text": [
            "<class 'pandas.core.frame.DataFrame'>\n",
            "Int64Index: 16713 entries, 0 to 16714\n",
            "Data columns (total 11 columns):\n",
            "name               16713 non-null object\n",
            "platform           16713 non-null object\n",
            "year_of_release    16713 non-null int64\n",
            "genre              16713 non-null object\n",
            "na_sales           16713 non-null float64\n",
            "eu_sales           16713 non-null float64\n",
            "jp_sales           16713 non-null float64\n",
            "other_sales        16713 non-null float64\n",
            "critic_score       8137 non-null float64\n",
            "user_score         7590 non-null float64\n",
            "rating             16713 non-null object\n",
            "dtypes: float64(6), int64(1), object(4)\n",
            "memory usage: 1.5+ MB\n"
          ]
        }
      ]
    },
    {
      "cell_type": "markdown",
      "metadata": {
        "id": "dFTKIuXep_7Y"
      },
      "source": [
        "Посчитаем суммарные продажи во всех регионах и запишем их в отдельный столбец:"
      ]
    },
    {
      "cell_type": "code",
      "metadata": {
        "colab": {
          "base_uri": "https://localhost:8080/",
          "height": 306
        },
        "id": "muI2OgxOqTz-",
        "outputId": "2acfa0c2-7849-4a93-fb97-0cf81933ffda"
      },
      "source": [
        "df['total_sales'] = df['na_sales'] + df['eu_sales'] + df['jp_sales'] + df['other_sales']\n",
        "df.head(5)"
      ],
      "execution_count": null,
      "outputs": [
        {
          "data": {
            "text/html": [
              "<div>\n",
              "<style scoped>\n",
              "    .dataframe tbody tr th:only-of-type {\n",
              "        vertical-align: middle;\n",
              "    }\n",
              "\n",
              "    .dataframe tbody tr th {\n",
              "        vertical-align: top;\n",
              "    }\n",
              "\n",
              "    .dataframe thead th {\n",
              "        text-align: right;\n",
              "    }\n",
              "</style>\n",
              "<table border=\"1\" class=\"dataframe\">\n",
              "  <thead>\n",
              "    <tr style=\"text-align: right;\">\n",
              "      <th></th>\n",
              "      <th>name</th>\n",
              "      <th>platform</th>\n",
              "      <th>year_of_release</th>\n",
              "      <th>genre</th>\n",
              "      <th>na_sales</th>\n",
              "      <th>eu_sales</th>\n",
              "      <th>jp_sales</th>\n",
              "      <th>other_sales</th>\n",
              "      <th>critic_score</th>\n",
              "      <th>user_score</th>\n",
              "      <th>rating</th>\n",
              "      <th>total_sales</th>\n",
              "    </tr>\n",
              "  </thead>\n",
              "  <tbody>\n",
              "    <tr>\n",
              "      <td>0</td>\n",
              "      <td>Wii Sports</td>\n",
              "      <td>Wii</td>\n",
              "      <td>2006</td>\n",
              "      <td>Sports</td>\n",
              "      <td>41.36</td>\n",
              "      <td>28.96</td>\n",
              "      <td>3.77</td>\n",
              "      <td>8.45</td>\n",
              "      <td>76.0</td>\n",
              "      <td>8.0</td>\n",
              "      <td>E</td>\n",
              "      <td>82.54</td>\n",
              "    </tr>\n",
              "    <tr>\n",
              "      <td>1</td>\n",
              "      <td>Super Mario Bros.</td>\n",
              "      <td>NES</td>\n",
              "      <td>1985</td>\n",
              "      <td>Platform</td>\n",
              "      <td>29.08</td>\n",
              "      <td>3.58</td>\n",
              "      <td>6.81</td>\n",
              "      <td>0.77</td>\n",
              "      <td>NaN</td>\n",
              "      <td>NaN</td>\n",
              "      <td>undefined</td>\n",
              "      <td>40.24</td>\n",
              "    </tr>\n",
              "    <tr>\n",
              "      <td>2</td>\n",
              "      <td>Mario Kart Wii</td>\n",
              "      <td>Wii</td>\n",
              "      <td>2008</td>\n",
              "      <td>Racing</td>\n",
              "      <td>15.68</td>\n",
              "      <td>12.76</td>\n",
              "      <td>3.79</td>\n",
              "      <td>3.29</td>\n",
              "      <td>82.0</td>\n",
              "      <td>8.3</td>\n",
              "      <td>E</td>\n",
              "      <td>35.52</td>\n",
              "    </tr>\n",
              "    <tr>\n",
              "      <td>3</td>\n",
              "      <td>Wii Sports Resort</td>\n",
              "      <td>Wii</td>\n",
              "      <td>2009</td>\n",
              "      <td>Sports</td>\n",
              "      <td>15.61</td>\n",
              "      <td>10.93</td>\n",
              "      <td>3.28</td>\n",
              "      <td>2.95</td>\n",
              "      <td>80.0</td>\n",
              "      <td>8.0</td>\n",
              "      <td>E</td>\n",
              "      <td>32.77</td>\n",
              "    </tr>\n",
              "    <tr>\n",
              "      <td>4</td>\n",
              "      <td>Pokemon Red/Pokemon Blue</td>\n",
              "      <td>GB</td>\n",
              "      <td>1996</td>\n",
              "      <td>Role-Playing</td>\n",
              "      <td>11.27</td>\n",
              "      <td>8.89</td>\n",
              "      <td>10.22</td>\n",
              "      <td>1.00</td>\n",
              "      <td>NaN</td>\n",
              "      <td>NaN</td>\n",
              "      <td>undefined</td>\n",
              "      <td>31.38</td>\n",
              "    </tr>\n",
              "  </tbody>\n",
              "</table>\n",
              "</div>"
            ],
            "text/plain": [
              "                       name platform  year_of_release         genre  na_sales  \\\n",
              "0                Wii Sports      Wii             2006        Sports     41.36   \n",
              "1         Super Mario Bros.      NES             1985      Platform     29.08   \n",
              "2            Mario Kart Wii      Wii             2008        Racing     15.68   \n",
              "3         Wii Sports Resort      Wii             2009        Sports     15.61   \n",
              "4  Pokemon Red/Pokemon Blue       GB             1996  Role-Playing     11.27   \n",
              "\n",
              "   eu_sales  jp_sales  other_sales  critic_score  user_score     rating  \\\n",
              "0     28.96      3.77         8.45          76.0         8.0          E   \n",
              "1      3.58      6.81         0.77           NaN         NaN  undefined   \n",
              "2     12.76      3.79         3.29          82.0         8.3          E   \n",
              "3     10.93      3.28         2.95          80.0         8.0          E   \n",
              "4      8.89     10.22         1.00           NaN         NaN  undefined   \n",
              "\n",
              "   total_sales  \n",
              "0        82.54  \n",
              "1        40.24  \n",
              "2        35.52  \n",
              "3        32.77  \n",
              "4        31.38  "
            ]
          },
          "execution_count": 410,
          "metadata": {},
          "output_type": "execute_result"
        }
      ]
    },
    {
      "cell_type": "markdown",
      "metadata": {
        "id": "zaBRvMFEppdx"
      },
      "source": [
        "На этапе предобработки мы обнаружили настолько большое число пропусков в столбцах оценок и рейтинга, что их нельзя было удалять. Пропуски, по нашему предположению связаны с тем, что рейтинг и оценки не были проставлены:\n",
        " \n",
        "-старым играм,\n",
        " \n",
        "-производитель мог не заявить игру на рейтинг,\n",
        " \n",
        "-некоторые пользователи не проставляют оценки,\n",
        " \n",
        "-каждый день выходит столько игр, в том числе мелких, что пользователи и критики не способны знать обо всех,\n",
        " \n",
        "-не во всех странах существуют или популярны платформы, где есть возможность поставить оценку игре.\n",
        " \n",
        " Было принято решение заполнить пропуски -1. Значения столбца года выпуска мы привели к целочисленному типу.\n"
      ]
    },
    {
      "cell_type": "markdown",
      "metadata": {
        "id": "Fan5_vgwqpKU"
      },
      "source": [
        "**3. Исследовательский анализ данных**\n",
        "\n",
        "**Количество игр, выпущенных в разные годы.**"
      ]
    },
    {
      "cell_type": "code",
      "metadata": {
        "id": "B-Pv4Cy81R8R"
      },
      "source": [
        "df = df[df['year_of_release'] < 2222]"
      ],
      "execution_count": null,
      "outputs": []
    },
    {
      "cell_type": "code",
      "metadata": {
        "colab": {
          "base_uri": "https://localhost:8080/",
          "height": 396
        },
        "id": "uCRQp4Jmpdvj",
        "outputId": "bb1432fd-7860-4a84-ef72-12cf1f9e461a"
      },
      "source": [
        "pt_years = df.pivot_table(index = 'year_of_release', values = 'total_sales', aggfunc = ['count'])\n",
        "pt_years.plot(kind='bar', grid=True, figsize=(10, 5))\n",
        "plt.title('Распределение продаж по годам')\n",
        "plt.show()"
      ],
      "execution_count": null,
      "outputs": [
        {
          "data": {
            "image/png": "[encoded data removed]",
            "text/plain": [
              "<Figure size 720x360 with 1 Axes>"
            ]
          },
          "metadata": {},
          "output_type": "display_data"
        }
      ]
    },
    {
      "cell_type": "markdown",
      "metadata": {
        "id": "FxL1Ywrz4ccV"
      },
      "source": [
        "Игры начали продаваться с 1994 (около 100 млн копий), и до 2008 мы видим рост продаж, который незначительно снижался в 1999-2000 и 2003-2004 годах. После 2009 мы видим спад. Пик продаж приходится на 2008-2009, продано более 1,4 млд копий. Чтобы выявить определяющие успешность игры закономерности, важно иметь представления об истории продаж, ведь популярность игр связана не только с техническим прогрессом, но также с особенно \"выстрелившими\" маркетинговыми стратегиями или социально-экономическими событиями. Так, в 2002, когда мы видим резкий рост продаж, происходили ценовые войны производителей, стремящихся усилить свое проникновение на рынок, вышли «Warcraft III» и «Battlefield 1942». А снижение после 2008, например, связано с последствиями экономического кризиса или тем, что на разработку стало уходить больше времени. Все эти исторические факты полезно учитывать для любого прогнозирования.\n",
        "\n"
      ]
    },
    {
      "cell_type": "markdown",
      "metadata": {
        "id": "L-h3dDN_QJBh"
      },
      "source": [
        "**Изменение продаж по платформам.** "
      ]
    },
    {
      "cell_type": "code",
      "metadata": {
        "colab": {
          "base_uri": "https://localhost:8080/",
          "height": 390
        },
        "id": "WOADOUwaeCV2",
        "outputId": "58341c65-2187-44ec-eb19-35767a2f2100"
      },
      "source": [
        "popular_platform = df.pivot_table(index='platform', values='total_sales', aggfunc='sum')\n",
        "popular_platform.sort_values(by='total_sales', ascending=False)\n",
        "#Платформы с наибольшими суммарными продажами"
      ],
      "execution_count": null,
      "outputs": [
        {
          "data": {
            "text/html": [
              "<div>\n",
              "<style scoped>\n",
              "    .dataframe tbody tr th:only-of-type {\n",
              "        vertical-align: middle;\n",
              "    }\n",
              "\n",
              "    .dataframe tbody tr th {\n",
              "        vertical-align: top;\n",
              "    }\n",
              "\n",
              "    .dataframe thead th {\n",
              "        text-align: right;\n",
              "    }\n",
              "</style>\n",
              "<table border=\"1\" class=\"dataframe\">\n",
              "  <thead>\n",
              "    <tr style=\"text-align: right;\">\n",
              "      <th></th>\n",
              "      <th>total_sales</th>\n",
              "    </tr>\n",
              "    <tr>\n",
              "      <th>platform</th>\n",
              "      <th></th>\n",
              "    </tr>\n",
              "  </thead>\n",
              "  <tbody>\n",
              "    <tr>\n",
              "      <td>PS2</td>\n",
              "      <td>1233.56</td>\n",
              "    </tr>\n",
              "    <tr>\n",
              "      <td>X360</td>\n",
              "      <td>961.24</td>\n",
              "    </tr>\n",
              "    <tr>\n",
              "      <td>PS3</td>\n",
              "      <td>931.34</td>\n",
              "    </tr>\n",
              "    <tr>\n",
              "      <td>Wii</td>\n",
              "      <td>891.18</td>\n",
              "    </tr>\n",
              "    <tr>\n",
              "      <td>DS</td>\n",
              "      <td>802.78</td>\n",
              "    </tr>\n",
              "    <tr>\n",
              "      <td>PS</td>\n",
              "      <td>727.58</td>\n",
              "    </tr>\n",
              "    <tr>\n",
              "      <td>PS4</td>\n",
              "      <td>314.14</td>\n",
              "    </tr>\n",
              "    <tr>\n",
              "      <td>GBA</td>\n",
              "      <td>312.88</td>\n",
              "    </tr>\n",
              "    <tr>\n",
              "      <td>PSP</td>\n",
              "      <td>289.53</td>\n",
              "    </tr>\n",
              "    <tr>\n",
              "      <td>3DS</td>\n",
              "      <td>257.81</td>\n",
              "    </tr>\n",
              "    <tr>\n",
              "      <td>PC</td>\n",
              "      <td>255.76</td>\n",
              "    </tr>\n",
              "    <tr>\n",
              "      <td>GB</td>\n",
              "      <td>254.43</td>\n",
              "    </tr>\n",
              "    <tr>\n",
              "      <td>XB</td>\n",
              "      <td>251.57</td>\n",
              "    </tr>\n",
              "    <tr>\n",
              "      <td>NES</td>\n",
              "      <td>251.05</td>\n",
              "    </tr>\n",
              "    <tr>\n",
              "      <td>N64</td>\n",
              "      <td>218.01</td>\n",
              "    </tr>\n",
              "    <tr>\n",
              "      <td>SNES</td>\n",
              "      <td>200.04</td>\n",
              "    </tr>\n",
              "    <tr>\n",
              "      <td>GC</td>\n",
              "      <td>196.73</td>\n",
              "    </tr>\n",
              "    <tr>\n",
              "      <td>XOne</td>\n",
              "      <td>159.32</td>\n",
              "    </tr>\n",
              "    <tr>\n",
              "      <td>2600</td>\n",
              "      <td>86.48</td>\n",
              "    </tr>\n",
              "    <tr>\n",
              "      <td>WiiU</td>\n",
              "      <td>82.19</td>\n",
              "    </tr>\n",
              "    <tr>\n",
              "      <td>PSV</td>\n",
              "      <td>53.81</td>\n",
              "    </tr>\n",
              "    <tr>\n",
              "      <td>SAT</td>\n",
              "      <td>33.59</td>\n",
              "    </tr>\n",
              "    <tr>\n",
              "      <td>GEN</td>\n",
              "      <td>28.35</td>\n",
              "    </tr>\n",
              "    <tr>\n",
              "      <td>DC</td>\n",
              "      <td>15.95</td>\n",
              "    </tr>\n",
              "    <tr>\n",
              "      <td>SCD</td>\n",
              "      <td>1.86</td>\n",
              "    </tr>\n",
              "    <tr>\n",
              "      <td>NG</td>\n",
              "      <td>1.44</td>\n",
              "    </tr>\n",
              "    <tr>\n",
              "      <td>WS</td>\n",
              "      <td>1.42</td>\n",
              "    </tr>\n",
              "    <tr>\n",
              "      <td>TG16</td>\n",
              "      <td>0.16</td>\n",
              "    </tr>\n",
              "    <tr>\n",
              "      <td>3DO</td>\n",
              "      <td>0.10</td>\n",
              "    </tr>\n",
              "    <tr>\n",
              "      <td>GG</td>\n",
              "      <td>0.04</td>\n",
              "    </tr>\n",
              "    <tr>\n",
              "      <td>PCFX</td>\n",
              "      <td>0.03</td>\n",
              "    </tr>\n",
              "  </tbody>\n",
              "</table>\n",
              "</div>"
            ],
            "text/plain": [
              "          total_sales\n",
              "platform             \n",
              "PS2           1233.56\n",
              "X360           961.24\n",
              "PS3            931.34\n",
              "Wii            891.18\n",
              "DS             802.78\n",
              "PS             727.58\n",
              "PS4            314.14\n",
              "GBA            312.88\n",
              "PSP            289.53\n",
              "3DS            257.81\n",
              "PC             255.76\n",
              "GB             254.43\n",
              "XB             251.57\n",
              "NES            251.05\n",
              "N64            218.01\n",
              "SNES           200.04\n",
              "GC             196.73\n",
              "XOne           159.32\n",
              "2600            86.48\n",
              "WiiU            82.19\n",
              "PSV             53.81\n",
              "SAT             33.59\n",
              "GEN             28.35\n",
              "DC              15.95\n",
              "SCD              1.86\n",
              "NG               1.44\n",
              "WS               1.42\n",
              "TG16             0.16\n",
              "3DO              0.10\n",
              "GG               0.04\n",
              "PCFX             0.03"
            ]
          },
          "execution_count": 413,
          "metadata": {},
          "output_type": "execute_result"
        }
      ]
    },
    {
      "cell_type": "code",
      "metadata": {
        "colab": {
          "base_uri": "https://localhost:8080/",
          "height": 366
        },
        "id": "DwLkgDG_vlIT",
        "outputId": "05add8da-b561-4888-c12b-da876e4786d3"
      },
      "source": [
        "popular_platform.plot(kind='bar', grid=True, figsize=(10, 5))\n",
        "plt.title('Объем продаж для каждой платформы')\n",
        "plt.show()"
      ],
      "execution_count": null,
      "outputs": [
        {
          "data": {
            "image/png": "[encoded data removed]",
            "text/plain": [
              "<Figure size 720x360 with 1 Axes>"
            ]
          },
          "metadata": {},
          "output_type": "display_data"
        }
      ]
    },
    {
      "cell_type": "markdown",
      "metadata": {
        "id": "aec3cJzG2bcq"
      },
      "source": [
        "Лидеры продаж за весь рассматриваемый период - PS2, PS3, X360."
      ]
    },
    {
      "cell_type": "code",
      "metadata": {
        "colab": {
          "base_uri": "https://localhost:8080/",
          "height": 359
        },
        "id": "-wvvUaHeiKUV",
        "outputId": "f2d29242-a4d2-44a7-f9cc-32d41739725a"
      },
      "source": [
        "platform_year = df.groupby(['platform', 'year_of_release'], as_index=False).aggregate({'total_sales': 'sum'})\n",
        "platform_year.sort_values(by='total_sales', ascending=False).head(10)\n"
      ],
      "execution_count": null,
      "outputs": [
        {
          "data": {
            "text/html": [
              "<div>\n",
              "<style scoped>\n",
              "    .dataframe tbody tr th:only-of-type {\n",
              "        vertical-align: middle;\n",
              "    }\n",
              "\n",
              "    .dataframe tbody tr th {\n",
              "        vertical-align: top;\n",
              "    }\n",
              "\n",
              "    .dataframe thead th {\n",
              "        text-align: right;\n",
              "    }\n",
              "</style>\n",
              "<table border=\"1\" class=\"dataframe\">\n",
              "  <thead>\n",
              "    <tr style=\"text-align: right;\">\n",
              "      <th></th>\n",
              "      <th>platform</th>\n",
              "      <th>year_of_release</th>\n",
              "      <th>total_sales</th>\n",
              "    </tr>\n",
              "  </thead>\n",
              "  <tbody>\n",
              "    <tr>\n",
              "      <td>134</td>\n",
              "      <td>PS2</td>\n",
              "      <td>2004</td>\n",
              "      <td>211.81</td>\n",
              "    </tr>\n",
              "    <tr>\n",
              "      <td>200</td>\n",
              "      <td>Wii</td>\n",
              "      <td>2009</td>\n",
              "      <td>206.97</td>\n",
              "    </tr>\n",
              "    <tr>\n",
              "      <td>132</td>\n",
              "      <td>PS2</td>\n",
              "      <td>2002</td>\n",
              "      <td>205.38</td>\n",
              "    </tr>\n",
              "    <tr>\n",
              "      <td>133</td>\n",
              "      <td>PS2</td>\n",
              "      <td>2003</td>\n",
              "      <td>184.31</td>\n",
              "    </tr>\n",
              "    <tr>\n",
              "      <td>199</td>\n",
              "      <td>Wii</td>\n",
              "      <td>2008</td>\n",
              "      <td>171.32</td>\n",
              "    </tr>\n",
              "    <tr>\n",
              "      <td>218</td>\n",
              "      <td>X360</td>\n",
              "      <td>2010</td>\n",
              "      <td>170.03</td>\n",
              "    </tr>\n",
              "    <tr>\n",
              "      <td>124</td>\n",
              "      <td>PS</td>\n",
              "      <td>1998</td>\n",
              "      <td>169.49</td>\n",
              "    </tr>\n",
              "    <tr>\n",
              "      <td>131</td>\n",
              "      <td>PS2</td>\n",
              "      <td>2001</td>\n",
              "      <td>166.43</td>\n",
              "    </tr>\n",
              "    <tr>\n",
              "      <td>135</td>\n",
              "      <td>PS2</td>\n",
              "      <td>2005</td>\n",
              "      <td>160.66</td>\n",
              "    </tr>\n",
              "    <tr>\n",
              "      <td>147</td>\n",
              "      <td>PS3</td>\n",
              "      <td>2011</td>\n",
              "      <td>156.78</td>\n",
              "    </tr>\n",
              "  </tbody>\n",
              "</table>\n",
              "</div>"
            ],
            "text/plain": [
              "    platform  year_of_release  total_sales\n",
              "134      PS2             2004       211.81\n",
              "200      Wii             2009       206.97\n",
              "132      PS2             2002       205.38\n",
              "133      PS2             2003       184.31\n",
              "199      Wii             2008       171.32\n",
              "218     X360             2010       170.03\n",
              "124       PS             1998       169.49\n",
              "131      PS2             2001       166.43\n",
              "135      PS2             2005       160.66\n",
              "147      PS3             2011       156.78"
            ]
          },
          "execution_count": 415,
          "metadata": {},
          "output_type": "execute_result"
        }
      ]
    },
    {
      "cell_type": "code",
      "metadata": {
        "colab": {
          "base_uri": "https://localhost:8080/",
          "height": 399
        },
        "id": "syPfusnwizKY",
        "outputId": "6e20c3ec-adeb-4277-9bd0-e9fb820b203f"
      },
      "source": [
        "sns.set()\n",
        "sns.relplot(data = df, y = 'platform', x = 'year_of_release', label='small')           \n",
        "plt.title('Распределение платформ по годам')\n",
        "plt.xlabel('Год')\n",
        "plt.ylabel('Платформа')\n",
        "plt.show()"
      ],
      "execution_count": null,
      "outputs": [
        {
          "data": {
            "image/png": "[encoded data removed]",
            "text/plain": [
              "<Figure size 360x360 with 1 Axes>"
            ]
          },
          "metadata": {},
          "output_type": "display_data"
        }
      ]
    },
    {
      "cell_type": "markdown",
      "metadata": {
        "id": "142l9WIK7-qS"
      },
      "source": [
        "Основной период существования платформы составляет 5-11 лет. Ислючение - РС, которая появилась в 1985, но стала активно продавать свои игры в 1994, и продает по сей день. Также мы можем видеть единичные платфомы, которые продавали игры 1-3 года."
      ]
    },
    {
      "cell_type": "markdown",
      "metadata": {
        "id": "cu5dCCDt-Sel"
      },
      "source": [
        "Возьмите данные за соответствующий **актуальный период**. Актуальный период определите самостоятельно в результате исследования предыдущих вопросов. Основной фактор — эти данные помогут построить прогноз на 2017 год. Не учитывайте в работе данные за предыдущие годы."
      ]
    },
    {
      "cell_type": "markdown",
      "metadata": {
        "id": "MVz7KqsXFYzd"
      },
      "source": [
        "Так как мы вычислили, что период существования платформы составляет 5-11 лет, то за актуальный период возьмем среднее значение - 8/2 лет (4 года взлет, 4 года падение), то есть с 2013 до конца 2016 года."
      ]
    },
    {
      "cell_type": "code",
      "metadata": {
        "id": "fCacjcUu1Kda"
      },
      "source": [
        "relevant_period = df.query('year_of_release >= 2013')"
      ],
      "execution_count": null,
      "outputs": []
    },
    {
      "cell_type": "markdown",
      "metadata": {
        "id": "i2o-aR-cLR3E"
      },
      "source": [
        "**Платформы, лидирующие по продажам** "
      ]
    },
    {
      "cell_type": "code",
      "metadata": {
        "colab": {
          "base_uri": "https://localhost:8080/",
          "height": 359
        },
        "id": "CTGV6sERFt0j",
        "outputId": "ebd02105-5f17-4356-9df8-11eab17db770"
      },
      "source": [
        "tops = relevant_period.groupby(['platform', 'year_of_release'], as_index=False).aggregate({'total_sales': 'sum'}).sort_values(by='total_sales', ascending=False).head(10)\n",
        "tops"
      ],
      "execution_count": null,
      "outputs": [
        {
          "data": {
            "text/html": [
              "<div>\n",
              "<style scoped>\n",
              "    .dataframe tbody tr th:only-of-type {\n",
              "        vertical-align: middle;\n",
              "    }\n",
              "\n",
              "    .dataframe tbody tr th {\n",
              "        vertical-align: top;\n",
              "    }\n",
              "\n",
              "    .dataframe thead th {\n",
              "        text-align: right;\n",
              "    }\n",
              "</style>\n",
              "<table border=\"1\" class=\"dataframe\">\n",
              "  <thead>\n",
              "    <tr style=\"text-align: right;\">\n",
              "      <th></th>\n",
              "      <th>platform</th>\n",
              "      <th>year_of_release</th>\n",
              "      <th>total_sales</th>\n",
              "    </tr>\n",
              "  </thead>\n",
              "  <tbody>\n",
              "    <tr>\n",
              "      <td>15</td>\n",
              "      <td>PS4</td>\n",
              "      <td>2015</td>\n",
              "      <td>118.90</td>\n",
              "    </tr>\n",
              "    <tr>\n",
              "      <td>9</td>\n",
              "      <td>PS3</td>\n",
              "      <td>2013</td>\n",
              "      <td>113.25</td>\n",
              "    </tr>\n",
              "    <tr>\n",
              "      <td>14</td>\n",
              "      <td>PS4</td>\n",
              "      <td>2014</td>\n",
              "      <td>100.00</td>\n",
              "    </tr>\n",
              "    <tr>\n",
              "      <td>32</td>\n",
              "      <td>X360</td>\n",
              "      <td>2013</td>\n",
              "      <td>88.58</td>\n",
              "    </tr>\n",
              "    <tr>\n",
              "      <td>16</td>\n",
              "      <td>PS4</td>\n",
              "      <td>2016</td>\n",
              "      <td>69.25</td>\n",
              "    </tr>\n",
              "    <tr>\n",
              "      <td>38</td>\n",
              "      <td>XOne</td>\n",
              "      <td>2015</td>\n",
              "      <td>60.14</td>\n",
              "    </tr>\n",
              "    <tr>\n",
              "      <td>0</td>\n",
              "      <td>3DS</td>\n",
              "      <td>2013</td>\n",
              "      <td>56.57</td>\n",
              "    </tr>\n",
              "    <tr>\n",
              "      <td>37</td>\n",
              "      <td>XOne</td>\n",
              "      <td>2014</td>\n",
              "      <td>54.07</td>\n",
              "    </tr>\n",
              "    <tr>\n",
              "      <td>10</td>\n",
              "      <td>PS3</td>\n",
              "      <td>2014</td>\n",
              "      <td>47.76</td>\n",
              "    </tr>\n",
              "    <tr>\n",
              "      <td>1</td>\n",
              "      <td>3DS</td>\n",
              "      <td>2014</td>\n",
              "      <td>43.76</td>\n",
              "    </tr>\n",
              "  </tbody>\n",
              "</table>\n",
              "</div>"
            ],
            "text/plain": [
              "   platform  year_of_release  total_sales\n",
              "15      PS4             2015       118.90\n",
              "9       PS3             2013       113.25\n",
              "14      PS4             2014       100.00\n",
              "32     X360             2013        88.58\n",
              "16      PS4             2016        69.25\n",
              "38     XOne             2015        60.14\n",
              "0       3DS             2013        56.57\n",
              "37     XOne             2014        54.07\n",
              "10      PS3             2014        47.76\n",
              "1       3DS             2014        43.76"
            ]
          },
          "execution_count": 418,
          "metadata": {},
          "output_type": "execute_result"
        }
      ]
    },
    {
      "cell_type": "markdown",
      "metadata": {
        "id": "B2CtwSOqfBVz"
      },
      "source": [
        "Из сводной таблицы видно, как на рынок врываются PS4. Таким образом, лидеры продаж за актуальный период: PS4, PS3, X360, XOne, 3DS. Визуализируем результат, чтобы увидеть динамику и понять, кто растет, а кто падает. PC не показывают высоких продаж, но мы помним, что эта платформа самая живучая, поэтому включим ее в график."
      ]
    },
    {
      "cell_type": "code",
      "metadata": {
        "colab": {
          "base_uri": "https://localhost:8080/",
          "height": 611
        },
        "id": "YtUHh4xoWiUk",
        "outputId": "5d895268-e893-445e-952f-2d9ab5b45e0b"
      },
      "source": [
        "top_platforms = ['PS4', 'PS3', 'X360', 'XOne','3DS', 'PC']\n",
        "\n",
        "sns.barplot(y='total_sales', \n",
        "            x='year_of_release', \n",
        "            hue='platform', \n",
        "            data = relevant_period.query('platform in @top_platforms'),\n",
        "            hue_order=top_platforms\n",
        "           )\n",
        "plt.title('Продажи cамых популярных платформ с 2013 по 2016 годы')\n",
        "plt.show()\n"
      ],
      "execution_count": null,
      "outputs": [
        {
          "data": {
            "image/png": "[encoded data removed]",
            "text/plain": [
              "<Figure size 432x288 with 1 Axes>"
            ]
          },
          "metadata": {},
          "output_type": "display_data"
        }
      ]
    },
    {
      "cell_type": "markdown",
      "metadata": {
        "id": "_NtWA21up-Gt"
      },
      "source": [
        "**Визуализация глобальных продаж игр в разбивке по платформам**. "
      ]
    },
    {
      "cell_type": "code",
      "metadata": {
        "colab": {
          "base_uri": "https://localhost:8080/",
          "height": 381
        },
        "id": "Z-8A531QNwk_",
        "outputId": "46410e06-8201-4979-a66d-be3d377e88cb"
      },
      "source": [
        "sns.catplot(x=\"platform\", \n",
        "            y='total_sales', \n",
        "            kind=\"box\", \n",
        "            data=relevant_period, \n",
        "            orient='v', \n",
        "            height=5, \n",
        "            aspect=2.5, \n",
        "            palette='PRGn')\n",
        "_= plt.ylim(0, 2)"
      ],
      "execution_count": null,
      "outputs": [
        {
          "data": {
            "image/png": "[encoded data removed]",
            "text/plain": [
              "<Figure size 900x360 with 1 Axes>"
            ]
          },
          "metadata": {},
          "output_type": "display_data"
        }
      ]
    },
    {
      "cell_type": "markdown",
      "metadata": {
        "id": "ZejXqDi2u7mA"
      },
      "source": [
        "Лидерами продаж за актуальный период являются: X360, PS4, XOne, Wii. У 3DS, которые в топе продаж, большие выбросы, видимо, картину делает регион или некоторая группа людей (например, богатые фанаты)))"
      ]
    },
    {
      "cell_type": "markdown",
      "metadata": {
        "id": "zBNxD6Ls0RM2"
      },
      "source": [
        "**Влияние отзывов пользователей и критиков на продажи внутри одной популярной платформы**."
      ]
    },
    {
      "cell_type": "code",
      "metadata": {
        "id": "YbOZRwdDp7yG"
      },
      "source": [
        "ps4_critic = relevant_period[(relevant_period['platform'] == 'PS4') & (relevant_period['critic_score'] != -1)]"
      ],
      "execution_count": null,
      "outputs": []
    },
    {
      "cell_type": "code",
      "metadata": {
        "colab": {
          "base_uri": "https://localhost:8080/",
          "height": 355
        },
        "id": "KuytFp4PSzgX",
        "outputId": "ce088b59-d92c-41e5-8691-01909edadc61"
      },
      "source": [
        "ps4_critic.plot(kind='scatter', x='critic_score', y='total_sales', ec='purple', figsize=(8,4))\n",
        "plt.title('Влияние оценки критиков на продажи PS4')\n",
        "plt.show()"
      ],
      "execution_count": null,
      "outputs": [
        {
          "name": "stderr",
          "output_type": "stream",
          "text": [
            "'c' argument looks like a single numeric RGB or RGBA sequence, which should be avoided as value-mapping will have precedence in case its length matches with 'x' & 'y'.  Please use a 2-D array with a single row if you really want to specify the same RGB or RGBA value for all points.\n"
          ]
        },
        {
          "data": {
            "image/png": "[encoded data removed]",
            "text/plain": [
              "<Figure size 576x288 with 1 Axes>"
            ]
          },
          "metadata": {},
          "output_type": "display_data"
        }
      ]
    },
    {
      "cell_type": "code",
      "metadata": {
        "id": "drI2z57AWpdK"
      },
      "source": [
        "ps4_user = relevant_period[(relevant_period['platform'] == 'PS4') & (relevant_period['user_score'] != -1)]\n"
      ],
      "execution_count": null,
      "outputs": []
    },
    {
      "cell_type": "code",
      "metadata": {
        "colab": {
          "base_uri": "https://localhost:8080/",
          "height": 355
        },
        "id": "cCksVZ-OYUKo",
        "outputId": "e9ad7bcb-36b8-4a7a-f14e-37f3bc4b18a6"
      },
      "source": [
        "ps4_user.plot(kind='scatter', x='user_score', y='total_sales', ec='green', figsize=(8,4))\n",
        "plt.title('Влияние оценки пользователей на продажи PS4')\n",
        "plt.show()"
      ],
      "execution_count": null,
      "outputs": [
        {
          "name": "stderr",
          "output_type": "stream",
          "text": [
            "'c' argument looks like a single numeric RGB or RGBA sequence, which should be avoided as value-mapping will have precedence in case its length matches with 'x' & 'y'.  Please use a 2-D array with a single row if you really want to specify the same RGB or RGBA value for all points.\n"
          ]
        },
        {
          "data": {
            "image/png": "[encoded data removed]",
            "text/plain": [
              "<Figure size 576x288 with 1 Axes>"
            ]
          },
          "metadata": {},
          "output_type": "display_data"
        }
      ]
    },
    {
      "cell_type": "code",
      "metadata": {
        "colab": {
          "base_uri": "https://localhost:8080/",
          "height": 103
        },
        "id": "jlW3Lvf3ZeSh",
        "outputId": "0c146a52-b4af-4ccb-fdcf-d531d799d4da"
      },
      "source": [
        "ps4 = relevant_period.query(\"platform == 'PS4'\")\n",
        "cor_parameters = ['critic_score', 'user_score', 'total_sales']\n",
        "corr_ps4 = ps4[cor_parameters].corr()\n",
        "corr_ps4.style.background_gradient(cmap='coolwarm')"
      ],
      "execution_count": null,
      "outputs": [
        {
          "data": {
            "text/html": [
              "<style  type=\"text/css\" >\n",
              "    #T_05b92442_b50b_11eb_bf5a_02420a394104row0_col0 {\n",
              "            background-color:  #b40426;\n",
              "            color:  #f1f1f1;\n",
              "        }    #T_05b92442_b50b_11eb_bf5a_02420a394104row0_col1 {\n",
              "            background-color:  #edd1c2;\n",
              "            color:  #000000;\n",
              "        }    #T_05b92442_b50b_11eb_bf5a_02420a394104row0_col2 {\n",
              "            background-color:  #c7d7f0;\n",
              "            color:  #000000;\n",
              "        }    #T_05b92442_b50b_11eb_bf5a_02420a394104row1_col0 {\n",
              "            background-color:  #8fb1fe;\n",
              "            color:  #000000;\n",
              "        }    #T_05b92442_b50b_11eb_bf5a_02420a394104row1_col1 {\n",
              "            background-color:  #b40426;\n",
              "            color:  #f1f1f1;\n",
              "        }    #T_05b92442_b50b_11eb_bf5a_02420a394104row1_col2 {\n",
              "            background-color:  #3b4cc0;\n",
              "            color:  #f1f1f1;\n",
              "        }    #T_05b92442_b50b_11eb_bf5a_02420a394104row2_col0 {\n",
              "            background-color:  #3b4cc0;\n",
              "            color:  #f1f1f1;\n",
              "        }    #T_05b92442_b50b_11eb_bf5a_02420a394104row2_col1 {\n",
              "            background-color:  #3b4cc0;\n",
              "            color:  #f1f1f1;\n",
              "        }    #T_05b92442_b50b_11eb_bf5a_02420a394104row2_col2 {\n",
              "            background-color:  #b40426;\n",
              "            color:  #f1f1f1;\n",
              "        }</style><table id=\"T_05b92442_b50b_11eb_bf5a_02420a394104\" ><thead>    <tr>        <th class=\"blank level0\" ></th>        <th class=\"col_heading level0 col0\" >critic_score</th>        <th class=\"col_heading level0 col1\" >user_score</th>        <th class=\"col_heading level0 col2\" >total_sales</th>    </tr></thead><tbody>\n",
              "                <tr>\n",
              "                        <th id=\"T_05b92442_b50b_11eb_bf5a_02420a394104level0_row0\" class=\"row_heading level0 row0\" >critic_score</th>\n",
              "                        <td id=\"T_05b92442_b50b_11eb_bf5a_02420a394104row0_col0\" class=\"data row0 col0\" >1</td>\n",
              "                        <td id=\"T_05b92442_b50b_11eb_bf5a_02420a394104row0_col1\" class=\"data row0 col1\" >0.557654</td>\n",
              "                        <td id=\"T_05b92442_b50b_11eb_bf5a_02420a394104row0_col2\" class=\"data row0 col2\" >0.406568</td>\n",
              "            </tr>\n",
              "            <tr>\n",
              "                        <th id=\"T_05b92442_b50b_11eb_bf5a_02420a394104level0_row1\" class=\"row_heading level0 row1\" >user_score</th>\n",
              "                        <td id=\"T_05b92442_b50b_11eb_bf5a_02420a394104row1_col0\" class=\"data row1 col0\" >0.557654</td>\n",
              "                        <td id=\"T_05b92442_b50b_11eb_bf5a_02420a394104row1_col1\" class=\"data row1 col1\" >1</td>\n",
              "                        <td id=\"T_05b92442_b50b_11eb_bf5a_02420a394104row1_col2\" class=\"data row1 col2\" >-0.0319571</td>\n",
              "            </tr>\n",
              "            <tr>\n",
              "                        <th id=\"T_05b92442_b50b_11eb_bf5a_02420a394104level0_row2\" class=\"row_heading level0 row2\" >total_sales</th>\n",
              "                        <td id=\"T_05b92442_b50b_11eb_bf5a_02420a394104row2_col0\" class=\"data row2 col0\" >0.406568</td>\n",
              "                        <td id=\"T_05b92442_b50b_11eb_bf5a_02420a394104row2_col1\" class=\"data row2 col1\" >-0.0319571</td>\n",
              "                        <td id=\"T_05b92442_b50b_11eb_bf5a_02420a394104row2_col2\" class=\"data row2 col2\" >1</td>\n",
              "            </tr>\n",
              "    </tbody></table>"
            ],
            "text/plain": [
              "<pandas.io.formats.style.Styler at 0x7f87fc7dd4d0>"
            ]
          },
          "execution_count": 425,
          "metadata": {},
          "output_type": "execute_result"
        }
      ]
    },
    {
      "cell_type": "markdown",
      "metadata": {
        "id": "NrkQjt-4cka_"
      },
      "source": [
        "На диаграмме рассеяния 'Влияние оценки критиков на продажи PS4' и на матрице корреляции видно, что чем выше оценки критиков, тем выше продажи. При выборе платформы пользователи руководствуются мнением критиков, а не оценками пользователей."
      ]
    },
    {
      "cell_type": "markdown",
      "metadata": {
        "id": "ZgQVNCguesbc"
      },
      "source": [
        "**Соотнесение выводов с продажами игр на других платформах.**"
      ]
    },
    {
      "cell_type": "code",
      "metadata": {
        "colab": {
          "base_uri": "https://localhost:8080/",
          "height": 355
        },
        "id": "9Ag2Ie6deHoQ",
        "outputId": "347710bb-4e10-4ff7-af68-5bc7acd7f30e"
      },
      "source": [
        "ps3_critic = relevant_period[(relevant_period['platform'] == 'PS3') & (relevant_period['critic_score'] != -1)]\n",
        "ps3_critic.plot(kind='scatter', x='critic_score', y='total_sales', ec='purple', figsize=(8,4))\n",
        "plt.title('Влияние оценки критиков на продажи PS3')\n",
        "plt.show()"
      ],
      "execution_count": null,
      "outputs": [
        {
          "name": "stderr",
          "output_type": "stream",
          "text": [
            "'c' argument looks like a single numeric RGB or RGBA sequence, which should be avoided as value-mapping will have precedence in case its length matches with 'x' & 'y'.  Please use a 2-D array with a single row if you really want to specify the same RGB or RGBA value for all points.\n"
          ]
        },
        {
          "data": {
            "image/png": "[encoded data removed]",
            "text/plain": [
              "<Figure size 576x288 with 1 Axes>"
            ]
          },
          "metadata": {},
          "output_type": "display_data"
        }
      ]
    },
    {
      "cell_type": "code",
      "metadata": {
        "colab": {
          "base_uri": "https://localhost:8080/",
          "height": 355
        },
        "id": "G0UdYfrNeqW1",
        "outputId": "6c33cf78-44ea-4acc-ec9e-7cb71e1ef603"
      },
      "source": [
        "X360_critic = relevant_period[(relevant_period['platform'] == 'X360') & (relevant_period['critic_score'] != -1)]\n",
        "X360_critic.plot(kind='scatter', x='critic_score', y='total_sales', ec='purple', figsize=(8,4))\n",
        "plt.title('Влияние оценки критиков на продажи X360')\n",
        "plt.show()"
      ],
      "execution_count": null,
      "outputs": [
        {
          "name": "stderr",
          "output_type": "stream",
          "text": [
            "'c' argument looks like a single numeric RGB or RGBA sequence, which should be avoided as value-mapping will have precedence in case its length matches with 'x' & 'y'.  Please use a 2-D array with a single row if you really want to specify the same RGB or RGBA value for all points.\n"
          ]
        },
        {
          "data": {
            "image/png": "[encoded data removed]",
            "text/plain": [
              "<Figure size 576x288 with 1 Axes>"
            ]
          },
          "metadata": {},
          "output_type": "display_data"
        }
      ]
    },
    {
      "cell_type": "code",
      "metadata": {
        "colab": {
          "base_uri": "https://localhost:8080/",
          "height": 355
        },
        "id": "4fONaIc5g4CH",
        "outputId": "0bd7e430-58e4-40a2-f17c-a97a07578c72"
      },
      "source": [
        "XOne_critic = relevant_period[(relevant_period['platform'] == 'XOne') & (relevant_period['critic_score'] != -1)]\n",
        "XOne_critic.plot(kind='scatter', x='critic_score', y='total_sales', ec='purple', figsize=(8,4))\n",
        "plt.title('Влияние оценки критиков на продажи XOne')\n",
        "plt.show()"
      ],
      "execution_count": null,
      "outputs": [
        {
          "name": "stderr",
          "output_type": "stream",
          "text": [
            "'c' argument looks like a single numeric RGB or RGBA sequence, which should be avoided as value-mapping will have precedence in case its length matches with 'x' & 'y'.  Please use a 2-D array with a single row if you really want to specify the same RGB or RGBA value for all points.\n"
          ]
        },
        {
          "data": {
            "image/png": "[encoded data removed]",
            "text/plain": [
              "<Figure size 576x288 with 1 Axes>"
            ]
          },
          "metadata": {},
          "output_type": "display_data"
        }
      ]
    },
    {
      "cell_type": "code",
      "metadata": {
        "colab": {
          "base_uri": "https://localhost:8080/",
          "height": 355
        },
        "id": "jiy-nqOghU-j",
        "outputId": "34566e94-c584-4c22-b9e2-22c98a4ff69d"
      },
      "source": [
        "ps3_user = relevant_period[(relevant_period['platform'] == 'PS3') & (relevant_period['user_score'] != -1)]\n",
        "ps3_user.plot(kind='scatter', x='user_score', y='total_sales', ec='green', figsize=(8,4))\n",
        "plt.title('Влияние оценки пользователей на продажи PS3')\n",
        "plt.show()"
      ],
      "execution_count": null,
      "outputs": [
        {
          "name": "stderr",
          "output_type": "stream",
          "text": [
            "'c' argument looks like a single numeric RGB or RGBA sequence, which should be avoided as value-mapping will have precedence in case its length matches with 'x' & 'y'.  Please use a 2-D array with a single row if you really want to specify the same RGB or RGBA value for all points.\n"
          ]
        },
        {
          "data": {
            "image/png": "[encoded data removed]",
            "text/plain": [
              "<Figure size 576x288 with 1 Axes>"
            ]
          },
          "metadata": {},
          "output_type": "display_data"
        }
      ]
    },
    {
      "cell_type": "code",
      "metadata": {
        "colab": {
          "base_uri": "https://localhost:8080/",
          "height": 355
        },
        "id": "696vMiXgppf5",
        "outputId": "9dac3473-2610-437a-ba6e-442fd9d528ec"
      },
      "source": [
        "X360_user = relevant_period[(relevant_period['platform'] == 'X360') & (relevant_period['user_score'] != -1)]\n",
        "X360_user.plot(kind='scatter', x='user_score', y='total_sales', ec='green', figsize=(8,4))\n",
        "plt.title('Влияние оценки пользователей на продажи X360')\n",
        "plt.show()"
      ],
      "execution_count": null,
      "outputs": [
        {
          "name": "stderr",
          "output_type": "stream",
          "text": [
            "'c' argument looks like a single numeric RGB or RGBA sequence, which should be avoided as value-mapping will have precedence in case its length matches with 'x' & 'y'.  Please use a 2-D array with a single row if you really want to specify the same RGB or RGBA value for all points.\n"
          ]
        },
        {
          "data": {
            "image/png": "[encoded data removed]",
            "text/plain": [
              "<Figure size 576x288 with 1 Axes>"
            ]
          },
          "metadata": {},
          "output_type": "display_data"
        }
      ]
    },
    {
      "cell_type": "code",
      "metadata": {
        "colab": {
          "base_uri": "https://localhost:8080/",
          "height": 355
        },
        "id": "zY4IvHiiqHgz",
        "outputId": "ef962772-cc19-4ebd-ac2c-4b165b59a679"
      },
      "source": [
        "XOne_user = relevant_period[(relevant_period['platform'] == 'XOne') & (relevant_period['user_score'] != -1)]\n",
        "XOne_user.plot(kind='scatter', x='user_score', y='total_sales', ec='green', figsize=(8,4))\n",
        "plt.title('Влияние оценки пользователей на продажи XOne')\n",
        "plt.show()"
      ],
      "execution_count": null,
      "outputs": [
        {
          "name": "stderr",
          "output_type": "stream",
          "text": [
            "'c' argument looks like a single numeric RGB or RGBA sequence, which should be avoided as value-mapping will have precedence in case its length matches with 'x' & 'y'.  Please use a 2-D array with a single row if you really want to specify the same RGB or RGBA value for all points.\n"
          ]
        },
        {
          "data": {
            "image/png": "[encoded data removed]",
            "text/plain": [
              "<Figure size 576x288 with 1 Axes>"
            ]
          },
          "metadata": {},
          "output_type": "display_data"
        }
      ]
    },
    {
      "cell_type": "code",
      "metadata": {
        "colab": {
          "base_uri": "https://localhost:8080/",
          "height": 103
        },
        "id": "NfQLq1jxqu-Q",
        "outputId": "0324490a-94a0-40f5-fe77-ddd14ec3f8a8"
      },
      "source": [
        "ps3 = relevant_period.query(\"platform == 'PS3'\")\n",
        "corr_ps3 = ps3[cor_parameters].corr()\n",
        "corr_ps3.style.background_gradient(cmap='coolwarm')"
      ],
      "execution_count": null,
      "outputs": [
        {
          "data": {
            "text/html": [
              "<style  type=\"text/css\" >\n",
              "    #T_07cbfd5e_b50b_11eb_bf5a_02420a394104row0_col0 {\n",
              "            background-color:  #b40426;\n",
              "            color:  #f1f1f1;\n",
              "        }    #T_07cbfd5e_b50b_11eb_bf5a_02420a394104row0_col1 {\n",
              "            background-color:  #f2cbb7;\n",
              "            color:  #000000;\n",
              "        }    #T_07cbfd5e_b50b_11eb_bf5a_02420a394104row0_col2 {\n",
              "            background-color:  #aac7fd;\n",
              "            color:  #000000;\n",
              "        }    #T_07cbfd5e_b50b_11eb_bf5a_02420a394104row1_col0 {\n",
              "            background-color:  #c0d4f5;\n",
              "            color:  #000000;\n",
              "        }    #T_07cbfd5e_b50b_11eb_bf5a_02420a394104row1_col1 {\n",
              "            background-color:  #b40426;\n",
              "            color:  #f1f1f1;\n",
              "        }    #T_07cbfd5e_b50b_11eb_bf5a_02420a394104row1_col2 {\n",
              "            background-color:  #3b4cc0;\n",
              "            color:  #f1f1f1;\n",
              "        }    #T_07cbfd5e_b50b_11eb_bf5a_02420a394104row2_col0 {\n",
              "            background-color:  #3b4cc0;\n",
              "            color:  #f1f1f1;\n",
              "        }    #T_07cbfd5e_b50b_11eb_bf5a_02420a394104row2_col1 {\n",
              "            background-color:  #3b4cc0;\n",
              "            color:  #f1f1f1;\n",
              "        }    #T_07cbfd5e_b50b_11eb_bf5a_02420a394104row2_col2 {\n",
              "            background-color:  #b40426;\n",
              "            color:  #f1f1f1;\n",
              "        }</style><table id=\"T_07cbfd5e_b50b_11eb_bf5a_02420a394104\" ><thead>    <tr>        <th class=\"blank level0\" ></th>        <th class=\"col_heading level0 col0\" >critic_score</th>        <th class=\"col_heading level0 col1\" >user_score</th>        <th class=\"col_heading level0 col2\" >total_sales</th>    </tr></thead><tbody>\n",
              "                <tr>\n",
              "                        <th id=\"T_07cbfd5e_b50b_11eb_bf5a_02420a394104level0_row0\" class=\"row_heading level0 row0\" >critic_score</th>\n",
              "                        <td id=\"T_07cbfd5e_b50b_11eb_bf5a_02420a394104row0_col0\" class=\"data row0 col0\" >1</td>\n",
              "                        <td id=\"T_07cbfd5e_b50b_11eb_bf5a_02420a394104row0_col1\" class=\"data row0 col1\" >0.59992</td>\n",
              "                        <td id=\"T_07cbfd5e_b50b_11eb_bf5a_02420a394104row0_col2\" class=\"data row0 col2\" >0.334285</td>\n",
              "            </tr>\n",
              "            <tr>\n",
              "                        <th id=\"T_07cbfd5e_b50b_11eb_bf5a_02420a394104level0_row1\" class=\"row_heading level0 row1\" >user_score</th>\n",
              "                        <td id=\"T_07cbfd5e_b50b_11eb_bf5a_02420a394104row1_col0\" class=\"data row1 col0\" >0.59992</td>\n",
              "                        <td id=\"T_07cbfd5e_b50b_11eb_bf5a_02420a394104row1_col1\" class=\"data row1 col1\" >1</td>\n",
              "                        <td id=\"T_07cbfd5e_b50b_11eb_bf5a_02420a394104row1_col2\" class=\"data row1 col2\" >0.0023944</td>\n",
              "            </tr>\n",
              "            <tr>\n",
              "                        <th id=\"T_07cbfd5e_b50b_11eb_bf5a_02420a394104level0_row2\" class=\"row_heading level0 row2\" >total_sales</th>\n",
              "                        <td id=\"T_07cbfd5e_b50b_11eb_bf5a_02420a394104row2_col0\" class=\"data row2 col0\" >0.334285</td>\n",
              "                        <td id=\"T_07cbfd5e_b50b_11eb_bf5a_02420a394104row2_col1\" class=\"data row2 col1\" >0.0023944</td>\n",
              "                        <td id=\"T_07cbfd5e_b50b_11eb_bf5a_02420a394104row2_col2\" class=\"data row2 col2\" >1</td>\n",
              "            </tr>\n",
              "    </tbody></table>"
            ],
            "text/plain": [
              "<pandas.io.formats.style.Styler at 0x7f87fd245dd0>"
            ]
          },
          "execution_count": 432,
          "metadata": {},
          "output_type": "execute_result"
        }
      ]
    },
    {
      "cell_type": "code",
      "metadata": {
        "colab": {
          "base_uri": "https://localhost:8080/",
          "height": 103
        },
        "id": "NWeraEUWrM3x",
        "outputId": "3c82b8b2-7ffa-4246-94a9-4da676e035a2"
      },
      "source": [
        "X360 = relevant_period.query(\"platform == 'X360'\")\n",
        "corr_X360 = X360[cor_parameters].corr()\n",
        "corr_X360.style.background_gradient(cmap='coolwarm')"
      ],
      "execution_count": null,
      "outputs": [
        {
          "data": {
            "text/html": [
              "<style  type=\"text/css\" >\n",
              "    #T_07d04ce2_b50b_11eb_bf5a_02420a394104row0_col0 {\n",
              "            background-color:  #b40426;\n",
              "            color:  #f1f1f1;\n",
              "        }    #T_07d04ce2_b50b_11eb_bf5a_02420a394104row0_col1 {\n",
              "            background-color:  #e3d9d3;\n",
              "            color:  #000000;\n",
              "        }    #T_07d04ce2_b50b_11eb_bf5a_02420a394104row0_col2 {\n",
              "            background-color:  #b2ccfb;\n",
              "            color:  #000000;\n",
              "        }    #T_07d04ce2_b50b_11eb_bf5a_02420a394104row1_col0 {\n",
              "            background-color:  #92b4fe;\n",
              "            color:  #000000;\n",
              "        }    #T_07d04ce2_b50b_11eb_bf5a_02420a394104row1_col1 {\n",
              "            background-color:  #b40426;\n",
              "            color:  #f1f1f1;\n",
              "        }    #T_07d04ce2_b50b_11eb_bf5a_02420a394104row1_col2 {\n",
              "            background-color:  #3b4cc0;\n",
              "            color:  #f1f1f1;\n",
              "        }    #T_07d04ce2_b50b_11eb_bf5a_02420a394104row2_col0 {\n",
              "            background-color:  #3b4cc0;\n",
              "            color:  #f1f1f1;\n",
              "        }    #T_07d04ce2_b50b_11eb_bf5a_02420a394104row2_col1 {\n",
              "            background-color:  #3b4cc0;\n",
              "            color:  #f1f1f1;\n",
              "        }    #T_07d04ce2_b50b_11eb_bf5a_02420a394104row2_col2 {\n",
              "            background-color:  #b40426;\n",
              "            color:  #f1f1f1;\n",
              "        }</style><table id=\"T_07d04ce2_b50b_11eb_bf5a_02420a394104\" ><thead>    <tr>        <th class=\"blank level0\" ></th>        <th class=\"col_heading level0 col0\" >critic_score</th>        <th class=\"col_heading level0 col1\" >user_score</th>        <th class=\"col_heading level0 col2\" >total_sales</th>    </tr></thead><tbody>\n",
              "                <tr>\n",
              "                        <th id=\"T_07d04ce2_b50b_11eb_bf5a_02420a394104level0_row0\" class=\"row_heading level0 row0\" >critic_score</th>\n",
              "                        <td id=\"T_07d04ce2_b50b_11eb_bf5a_02420a394104row0_col0\" class=\"data row0 col0\" >1</td>\n",
              "                        <td id=\"T_07d04ce2_b50b_11eb_bf5a_02420a394104row0_col1\" class=\"data row0 col1\" >0.520946</td>\n",
              "                        <td id=\"T_07d04ce2_b50b_11eb_bf5a_02420a394104row0_col2\" class=\"data row0 col2\" >0.350345</td>\n",
              "            </tr>\n",
              "            <tr>\n",
              "                        <th id=\"T_07d04ce2_b50b_11eb_bf5a_02420a394104level0_row1\" class=\"row_heading level0 row1\" >user_score</th>\n",
              "                        <td id=\"T_07d04ce2_b50b_11eb_bf5a_02420a394104row1_col0\" class=\"data row1 col0\" >0.520946</td>\n",
              "                        <td id=\"T_07d04ce2_b50b_11eb_bf5a_02420a394104row1_col1\" class=\"data row1 col1\" >1</td>\n",
              "                        <td id=\"T_07d04ce2_b50b_11eb_bf5a_02420a394104row1_col2\" class=\"data row1 col2\" >-0.0117422</td>\n",
              "            </tr>\n",
              "            <tr>\n",
              "                        <th id=\"T_07d04ce2_b50b_11eb_bf5a_02420a394104level0_row2\" class=\"row_heading level0 row2\" >total_sales</th>\n",
              "                        <td id=\"T_07d04ce2_b50b_11eb_bf5a_02420a394104row2_col0\" class=\"data row2 col0\" >0.350345</td>\n",
              "                        <td id=\"T_07d04ce2_b50b_11eb_bf5a_02420a394104row2_col1\" class=\"data row2 col1\" >-0.0117422</td>\n",
              "                        <td id=\"T_07d04ce2_b50b_11eb_bf5a_02420a394104row2_col2\" class=\"data row2 col2\" >1</td>\n",
              "            </tr>\n",
              "    </tbody></table>"
            ],
            "text/plain": [
              "<pandas.io.formats.style.Styler at 0x7f87fcaecc90>"
            ]
          },
          "execution_count": 433,
          "metadata": {},
          "output_type": "execute_result"
        }
      ]
    },
    {
      "cell_type": "code",
      "metadata": {
        "colab": {
          "base_uri": "https://localhost:8080/",
          "height": 103
        },
        "id": "ZLOZyj7IreAI",
        "outputId": "3c97f172-e48f-4396-dac4-a61480ebfed3"
      },
      "source": [
        "XOne = relevant_period.query(\"platform == 'XOne'\")\n",
        "corr_XOne = XOne[cor_parameters].corr()\n",
        "corr_XOne.style.background_gradient(cmap='coolwarm')"
      ],
      "execution_count": null,
      "outputs": [
        {
          "data": {
            "text/html": [
              "<style  type=\"text/css\" >\n",
              "    #T_07d48140_b50b_11eb_bf5a_02420a394104row0_col0 {\n",
              "            background-color:  #b40426;\n",
              "            color:  #f1f1f1;\n",
              "        }    #T_07d48140_b50b_11eb_bf5a_02420a394104row0_col1 {\n",
              "            background-color:  #dedcdb;\n",
              "            color:  #000000;\n",
              "        }    #T_07d48140_b50b_11eb_bf5a_02420a394104row0_col2 {\n",
              "            background-color:  #d1dae9;\n",
              "            color:  #000000;\n",
              "        }    #T_07d48140_b50b_11eb_bf5a_02420a394104row1_col0 {\n",
              "            background-color:  #5875e1;\n",
              "            color:  #000000;\n",
              "        }    #T_07d48140_b50b_11eb_bf5a_02420a394104row1_col1 {\n",
              "            background-color:  #b40426;\n",
              "            color:  #f1f1f1;\n",
              "        }    #T_07d48140_b50b_11eb_bf5a_02420a394104row1_col2 {\n",
              "            background-color:  #3b4cc0;\n",
              "            color:  #f1f1f1;\n",
              "        }    #T_07d48140_b50b_11eb_bf5a_02420a394104row2_col0 {\n",
              "            background-color:  #3b4cc0;\n",
              "            color:  #f1f1f1;\n",
              "        }    #T_07d48140_b50b_11eb_bf5a_02420a394104row2_col1 {\n",
              "            background-color:  #3b4cc0;\n",
              "            color:  #f1f1f1;\n",
              "        }    #T_07d48140_b50b_11eb_bf5a_02420a394104row2_col2 {\n",
              "            background-color:  #b40426;\n",
              "            color:  #f1f1f1;\n",
              "        }</style><table id=\"T_07d48140_b50b_11eb_bf5a_02420a394104\" ><thead>    <tr>        <th class=\"blank level0\" ></th>        <th class=\"col_heading level0 col0\" >critic_score</th>        <th class=\"col_heading level0 col1\" >user_score</th>        <th class=\"col_heading level0 col2\" >total_sales</th>    </tr></thead><tbody>\n",
              "                <tr>\n",
              "                        <th id=\"T_07d48140_b50b_11eb_bf5a_02420a394104level0_row0\" class=\"row_heading level0 row0\" >critic_score</th>\n",
              "                        <td id=\"T_07d48140_b50b_11eb_bf5a_02420a394104row0_col0\" class=\"data row0 col0\" >1</td>\n",
              "                        <td id=\"T_07d48140_b50b_11eb_bf5a_02420a394104row0_col1\" class=\"data row0 col1\" >0.472462</td>\n",
              "                        <td id=\"T_07d48140_b50b_11eb_bf5a_02420a394104row0_col2\" class=\"data row0 col2\" >0.416998</td>\n",
              "            </tr>\n",
              "            <tr>\n",
              "                        <th id=\"T_07d48140_b50b_11eb_bf5a_02420a394104level0_row1\" class=\"row_heading level0 row1\" >user_score</th>\n",
              "                        <td id=\"T_07d48140_b50b_11eb_bf5a_02420a394104row1_col0\" class=\"data row1 col0\" >0.472462</td>\n",
              "                        <td id=\"T_07d48140_b50b_11eb_bf5a_02420a394104row1_col1\" class=\"data row1 col1\" >1</td>\n",
              "                        <td id=\"T_07d48140_b50b_11eb_bf5a_02420a394104row1_col2\" class=\"data row1 col2\" >-0.0689251</td>\n",
              "            </tr>\n",
              "            <tr>\n",
              "                        <th id=\"T_07d48140_b50b_11eb_bf5a_02420a394104level0_row2\" class=\"row_heading level0 row2\" >total_sales</th>\n",
              "                        <td id=\"T_07d48140_b50b_11eb_bf5a_02420a394104row2_col0\" class=\"data row2 col0\" >0.416998</td>\n",
              "                        <td id=\"T_07d48140_b50b_11eb_bf5a_02420a394104row2_col1\" class=\"data row2 col1\" >-0.0689251</td>\n",
              "                        <td id=\"T_07d48140_b50b_11eb_bf5a_02420a394104row2_col2\" class=\"data row2 col2\" >1</td>\n",
              "            </tr>\n",
              "    </tbody></table>"
            ],
            "text/plain": [
              "<pandas.io.formats.style.Styler at 0x7f87fc8c2510>"
            ]
          },
          "execution_count": 434,
          "metadata": {},
          "output_type": "execute_result"
        }
      ]
    },
    {
      "cell_type": "markdown",
      "metadata": {
        "id": "Gip99pRbtJcj"
      },
      "source": [
        "Анализ еще трех популярных платформ говорит о том, что оценки критиков могут повлиять на продажи, но не в большой степени. Уровень корреляции 0,3 - 0,4. Оценки пользователей не влияют на продажи."
      ]
    },
    {
      "cell_type": "code",
      "metadata": {
        "id": "cffgqbZfOM10"
      },
      "source": [
        "all_platforms = relevant_period.query('(user_score != -1) and (critic_score != -1)')\n"
      ],
      "execution_count": null,
      "outputs": []
    },
    {
      "cell_type": "code",
      "metadata": {
        "id": "oac-AUVgOM10",
        "outputId": "8419ce8b-6c7a-48d2-9bb9-4003330327be"
      },
      "source": [
        "all_platforms.plot(kind='scatter', x='critic_score', y='total_sales', ec='purple', figsize=(8,4))\n",
        "plt.title('Влияние оценки критиков на продажи')\n",
        "plt.show()"
      ],
      "execution_count": null,
      "outputs": [
        {
          "name": "stderr",
          "output_type": "stream",
          "text": [
            "'c' argument looks like a single numeric RGB or RGBA sequence, which should be avoided as value-mapping will have precedence in case its length matches with 'x' & 'y'.  Please use a 2-D array with a single row if you really want to specify the same RGB or RGBA value for all points.\n"
          ]
        },
        {
          "data": {
            "image/png": "[encoded data removed]",
            "text/plain": [
              "<Figure size 576x288 with 1 Axes>"
            ]
          },
          "metadata": {},
          "output_type": "display_data"
        }
      ]
    },
    {
      "cell_type": "code",
      "metadata": {
        "id": "ijgHTTubOM10",
        "outputId": "3f947d97-a807-4cc6-a245-e8696e0985c8"
      },
      "source": [
        "all_platforms.plot(kind='scatter', x='user_score', y='total_sales', ec='green', figsize=(8,4))\n",
        "plt.title('Влияние оценки пользователей на продажи')\n",
        "plt.show()"
      ],
      "execution_count": null,
      "outputs": [
        {
          "name": "stderr",
          "output_type": "stream",
          "text": [
            "'c' argument looks like a single numeric RGB or RGBA sequence, which should be avoided as value-mapping will have precedence in case its length matches with 'x' & 'y'.  Please use a 2-D array with a single row if you really want to specify the same RGB or RGBA value for all points.\n"
          ]
        },
        {
          "data": {
            "image/png": "[encoded data removed]",
            "text/plain": [
              "<Figure size 576x288 with 1 Axes>"
            ]
          },
          "metadata": {},
          "output_type": "display_data"
        }
      ]
    },
    {
      "cell_type": "code",
      "metadata": {
        "id": "5pkfV0rQOM10",
        "outputId": "c301d042-a121-4a22-85a0-bde2c2038ed9"
      },
      "source": [
        "all_platforms.pivot_table(index=['name'], values=['critic_score', 'user_score', 'total_sales']).corr().loc[:,'total_sales']\n",
        "                                                                   \n",
        "                                                                   \n",
        "                                           "
      ],
      "execution_count": null,
      "outputs": [
        {
          "data": {
            "text/plain": [
              "critic_score    0.360113\n",
              "total_sales     1.000000\n",
              "user_score      0.047912\n",
              "Name: total_sales, dtype: float64"
            ]
          },
          "execution_count": 438,
          "metadata": {},
          "output_type": "execute_result"
        }
      ]
    },
    {
      "cell_type": "markdown",
      "metadata": {
        "id": "N3NtQqeWOM10"
      },
      "source": [
        "Даже без привязки к платформе мы получаем тот же результат."
      ]
    },
    {
      "cell_type": "markdown",
      "metadata": {
        "id": "8f_UUtidunrV"
      },
      "source": [
        "**Распределение игр по жанрам**. "
      ]
    },
    {
      "cell_type": "code",
      "metadata": {
        "colab": {
          "base_uri": "https://localhost:8080/",
          "height": 421
        },
        "id": "cUu6-12prn8E",
        "outputId": "c9775990-f328-45d3-8333-63a9099edebd"
      },
      "source": [
        "relevant_genres = relevant_period.groupby(['genre'], as_index=False).aggregate({'total_sales': 'sum'}).sort_values(by='total_sales', ascending=False)\n",
        "relevant_genres"
      ],
      "execution_count": null,
      "outputs": [
        {
          "data": {
            "text/html": [
              "<div>\n",
              "<style scoped>\n",
              "    .dataframe tbody tr th:only-of-type {\n",
              "        vertical-align: middle;\n",
              "    }\n",
              "\n",
              "    .dataframe tbody tr th {\n",
              "        vertical-align: top;\n",
              "    }\n",
              "\n",
              "    .dataframe thead th {\n",
              "        text-align: right;\n",
              "    }\n",
              "</style>\n",
              "<table border=\"1\" class=\"dataframe\">\n",
              "  <thead>\n",
              "    <tr style=\"text-align: right;\">\n",
              "      <th></th>\n",
              "      <th>genre</th>\n",
              "      <th>total_sales</th>\n",
              "    </tr>\n",
              "  </thead>\n",
              "  <tbody>\n",
              "    <tr>\n",
              "      <td>0</td>\n",
              "      <td>Action</td>\n",
              "      <td>321.87</td>\n",
              "    </tr>\n",
              "    <tr>\n",
              "      <td>8</td>\n",
              "      <td>Shooter</td>\n",
              "      <td>232.98</td>\n",
              "    </tr>\n",
              "    <tr>\n",
              "      <td>10</td>\n",
              "      <td>Sports</td>\n",
              "      <td>150.65</td>\n",
              "    </tr>\n",
              "    <tr>\n",
              "      <td>7</td>\n",
              "      <td>Role-Playing</td>\n",
              "      <td>145.89</td>\n",
              "    </tr>\n",
              "    <tr>\n",
              "      <td>3</td>\n",
              "      <td>Misc</td>\n",
              "      <td>62.82</td>\n",
              "    </tr>\n",
              "    <tr>\n",
              "      <td>4</td>\n",
              "      <td>Platform</td>\n",
              "      <td>42.63</td>\n",
              "    </tr>\n",
              "    <tr>\n",
              "      <td>6</td>\n",
              "      <td>Racing</td>\n",
              "      <td>39.89</td>\n",
              "    </tr>\n",
              "    <tr>\n",
              "      <td>2</td>\n",
              "      <td>Fighting</td>\n",
              "      <td>35.31</td>\n",
              "    </tr>\n",
              "    <tr>\n",
              "      <td>1</td>\n",
              "      <td>Adventure</td>\n",
              "      <td>23.64</td>\n",
              "    </tr>\n",
              "    <tr>\n",
              "      <td>9</td>\n",
              "      <td>Simulation</td>\n",
              "      <td>21.76</td>\n",
              "    </tr>\n",
              "    <tr>\n",
              "      <td>11</td>\n",
              "      <td>Strategy</td>\n",
              "      <td>10.08</td>\n",
              "    </tr>\n",
              "    <tr>\n",
              "      <td>5</td>\n",
              "      <td>Puzzle</td>\n",
              "      <td>3.17</td>\n",
              "    </tr>\n",
              "  </tbody>\n",
              "</table>\n",
              "</div>"
            ],
            "text/plain": [
              "           genre  total_sales\n",
              "0         Action       321.87\n",
              "8        Shooter       232.98\n",
              "10        Sports       150.65\n",
              "7   Role-Playing       145.89\n",
              "3           Misc        62.82\n",
              "4       Platform        42.63\n",
              "6         Racing        39.89\n",
              "2       Fighting        35.31\n",
              "1      Adventure        23.64\n",
              "9     Simulation        21.76\n",
              "11      Strategy        10.08\n",
              "5         Puzzle         3.17"
            ]
          },
          "execution_count": 439,
          "metadata": {},
          "output_type": "execute_result"
        }
      ]
    },
    {
      "cell_type": "code",
      "metadata": {
        "colab": {
          "base_uri": "https://localhost:8080/",
          "height": 401
        },
        "id": "WhXuMeoR1NX4",
        "outputId": "214523a7-04cd-42cb-e4c4-5c39fe0a7859"
      },
      "source": [
        "relevant_genres.plot(x='genre', y='total_sales', kind='bar', grid=True, figsize=(8, 4))\n",
        "plt.title('Распределение продаж по жанрам')\n",
        "plt.show()"
      ],
      "execution_count": null,
      "outputs": [
        {
          "data": {
            "image/png": "[encoded data removed]",
            "text/plain": [
              "<Figure size 576x288 with 1 Axes>"
            ]
          },
          "metadata": {},
          "output_type": "display_data"
        }
      ]
    },
    {
      "cell_type": "code",
      "metadata": {
        "id": "BvN1vEk5OM11",
        "outputId": "822aaae4-9564-4d64-a7c4-80fd02f6d277"
      },
      "source": [
        "relevant_genres_count = relevant_period.pivot_table(index = 'genre', values = 'total_sales', aggfunc = ['mean', 'count'])\n",
        "relevant_genres_count.plot(kind='bar', grid=True, figsize=(8, 4))\n",
        "relevant_genres_count"
      ],
      "execution_count": null,
      "outputs": [
        {
          "data": {
            "text/html": [
              "<div>\n",
              "<style scoped>\n",
              "    .dataframe tbody tr th:only-of-type {\n",
              "        vertical-align: middle;\n",
              "    }\n",
              "\n",
              "    .dataframe tbody tr th {\n",
              "        vertical-align: top;\n",
              "    }\n",
              "\n",
              "    .dataframe thead tr th {\n",
              "        text-align: left;\n",
              "    }\n",
              "\n",
              "    .dataframe thead tr:last-of-type th {\n",
              "        text-align: right;\n",
              "    }\n",
              "</style>\n",
              "<table border=\"1\" class=\"dataframe\">\n",
              "  <thead>\n",
              "    <tr>\n",
              "      <th></th>\n",
              "      <th>mean</th>\n",
              "      <th>count</th>\n",
              "    </tr>\n",
              "    <tr>\n",
              "      <th></th>\n",
              "      <th>total_sales</th>\n",
              "      <th>total_sales</th>\n",
              "    </tr>\n",
              "    <tr>\n",
              "      <th>genre</th>\n",
              "      <th></th>\n",
              "      <th></th>\n",
              "    </tr>\n",
              "  </thead>\n",
              "  <tbody>\n",
              "    <tr>\n",
              "      <td>Action</td>\n",
              "      <td>0.420196</td>\n",
              "      <td>766</td>\n",
              "    </tr>\n",
              "    <tr>\n",
              "      <td>Adventure</td>\n",
              "      <td>0.096490</td>\n",
              "      <td>245</td>\n",
              "    </tr>\n",
              "    <tr>\n",
              "      <td>Fighting</td>\n",
              "      <td>0.441375</td>\n",
              "      <td>80</td>\n",
              "    </tr>\n",
              "    <tr>\n",
              "      <td>Misc</td>\n",
              "      <td>0.405290</td>\n",
              "      <td>155</td>\n",
              "    </tr>\n",
              "    <tr>\n",
              "      <td>Platform</td>\n",
              "      <td>0.576081</td>\n",
              "      <td>74</td>\n",
              "    </tr>\n",
              "    <tr>\n",
              "      <td>Puzzle</td>\n",
              "      <td>0.186471</td>\n",
              "      <td>17</td>\n",
              "    </tr>\n",
              "    <tr>\n",
              "      <td>Racing</td>\n",
              "      <td>0.469294</td>\n",
              "      <td>85</td>\n",
              "    </tr>\n",
              "    <tr>\n",
              "      <td>Role-Playing</td>\n",
              "      <td>0.499623</td>\n",
              "      <td>292</td>\n",
              "    </tr>\n",
              "    <tr>\n",
              "      <td>Shooter</td>\n",
              "      <td>1.245882</td>\n",
              "      <td>187</td>\n",
              "    </tr>\n",
              "    <tr>\n",
              "      <td>Simulation</td>\n",
              "      <td>0.350968</td>\n",
              "      <td>62</td>\n",
              "    </tr>\n",
              "    <tr>\n",
              "      <td>Sports</td>\n",
              "      <td>0.703972</td>\n",
              "      <td>214</td>\n",
              "    </tr>\n",
              "    <tr>\n",
              "      <td>Strategy</td>\n",
              "      <td>0.180000</td>\n",
              "      <td>56</td>\n",
              "    </tr>\n",
              "  </tbody>\n",
              "</table>\n",
              "</div>"
            ],
            "text/plain": [
              "                    mean       count\n",
              "             total_sales total_sales\n",
              "genre                               \n",
              "Action          0.420196         766\n",
              "Adventure       0.096490         245\n",
              "Fighting        0.441375          80\n",
              "Misc            0.405290         155\n",
              "Platform        0.576081          74\n",
              "Puzzle          0.186471          17\n",
              "Racing          0.469294          85\n",
              "Role-Playing    0.499623         292\n",
              "Shooter         1.245882         187\n",
              "Simulation      0.350968          62\n",
              "Sports          0.703972         214\n",
              "Strategy        0.180000          56"
            ]
          },
          "execution_count": 441,
          "metadata": {},
          "output_type": "execute_result"
        },
        {
          "data": {
            "image/png": "[encoded data removed]",
            "text/plain": [
              "<Figure size 576x288 with 1 Axes>"
            ]
          },
          "metadata": {},
          "output_type": "display_data"
        }
      ]
    },
    {
      "cell_type": "markdown",
      "metadata": {
        "id": "mEmDeE_b4WWJ"
      },
      "source": [
        "Первая тройка популярных жанров: Action, Shooter, Sports. Самый непродаваемый жанр: Puzzle. Но стоит учесть, что паззл в производстве самый легкий и дешевый. При этом игр в жанре Action производится в разы больше, чем всех остальных, значит, они берут количеством"
      ]
    },
    {
      "cell_type": "markdown",
      "metadata": {
        "id": "uB5UjIBy78TV"
      },
      "source": [
        "Игры начали продаваться с 1994 (около 100 млн копий), и до 2008 мы видим рост продаж, который незначительно снижался в 1999-2000 и 2003-2004 годах. После 2009 мы видим спад. Пик продаж приходится на 2008-2009, продано более 1,4 млд копий. \n",
        " \n",
        "Лидеры продаж за весь период - PS2, PS3, X360. Лидерами продаж за актуальный период (2013 - 2016) являются: X360, PS4, XOne, Wii, 3DS, РС.\n",
        "\n",
        "Основной период существования платформы составляет 5-11 лет. \n",
        " \n",
        "Оценки критиков в небольшой степени могут повлиять на продажи, оценки пользователей не оказывают влияния."
      ]
    },
    {
      "cell_type": "markdown",
      "metadata": {
        "id": "ikABhshN8BZy"
      },
      "source": [
        "**4. Портрет пользователя каждого региона**\n",
        "\n",
        "\n"
      ]
    },
    {
      "cell_type": "code",
      "metadata": {
        "colab": {
          "base_uri": "https://localhost:8080/",
          "height": 926
        },
        "id": "EP3tPrtCJ2Zg",
        "outputId": "43ba6f7f-0ece-4f3a-be42-efc163dc3ca1"
      },
      "source": [
        "relevant_period.groupby(by='platform').agg({'jp_sales':'sum'}).sort_values(by='jp_sales', ascending=False).head(5).plot(kind='bar')\n",
        "relevant_period.groupby(by='platform').agg({'eu_sales':'sum'}).sort_values(by='eu_sales', ascending=False).head(5).plot(kind='bar')\n",
        "relevant_period.groupby(by='platform').agg({'na_sales':'sum'}).sort_values(by='na_sales', ascending=False).head(5).plot(kind='bar')\n",
        "plt.show()"
      ],
      "execution_count": null,
      "outputs": [
        {
          "data": {
            "image/png": "[encoded data removed]",
            "text/plain": [
              "<Figure size 432x288 with 1 Axes>"
            ]
          },
          "metadata": {},
          "output_type": "display_data"
        },
        {
          "data": {
            "image/png": "[encoded data removed]",
            "text/plain": [
              "<Figure size 432x288 with 1 Axes>"
            ]
          },
          "metadata": {},
          "output_type": "display_data"
        },
        {
          "data": {
            "image/png": "[encoded data removed]",
            "text/plain": [
              "<Figure size 432x288 with 1 Axes>"
            ]
          },
          "metadata": {},
          "output_type": "display_data"
        }
      ]
    },
    {
      "cell_type": "markdown",
      "metadata": {
        "id": "jdjXTWxwLLHc"
      },
      "source": [
        "Самые популярные платформы Японии: 3DS, PS3, PSV.\n",
        "\n",
        "Самые популярные платформы ЕС: PS4, PS3, XOne.\n",
        "\n",
        "Самые популярные платформы США: PS4, XOne, X360."
      ]
    },
    {
      "cell_type": "code",
      "metadata": {
        "colab": {
          "base_uri": "https://localhost:8080/",
          "height": 1000
        },
        "id": "TI7wM8Hw4hxd",
        "outputId": "f7880b00-1079-489f-adaf-739d97551284"
      },
      "source": [
        "relevant_period.groupby(by='genre').agg({'jp_sales':'sum'}).sort_values(by='jp_sales', ascending=False).head(5).plot(kind='bar')\n",
        "relevant_period.groupby(by='genre').agg({'eu_sales':'sum'}).sort_values(by='eu_sales', ascending=False).head(5).plot(kind='bar')\n",
        "relevant_period.groupby(by='genre').agg({'na_sales':'sum'}).sort_values(by='na_sales', ascending=False).head(5).plot(kind='bar')\n",
        "plt.show()"
      ],
      "execution_count": null,
      "outputs": [
        {
          "data": {
            "image/png": "[encoded data removed]",
            "text/plain": [
              "<Figure size 432x288 with 1 Axes>"
            ]
          },
          "metadata": {},
          "output_type": "display_data"
        },
        {
          "data": {
            "image/png": "[encoded data removed]",
            "text/plain": [
              "<Figure size 432x288 with 1 Axes>"
            ]
          },
          "metadata": {},
          "output_type": "display_data"
        },
        {
          "data": {
            "image/png": "[encoded data removed]",
            "text/plain": [
              "<Figure size 432x288 with 1 Axes>"
            ]
          },
          "metadata": {},
          "output_type": "display_data"
        }
      ]
    },
    {
      "cell_type": "markdown",
      "metadata": {
        "id": "c2lJUKugMyOk"
      },
      "source": [
        "В Японии больше всего покупают ролевые игры, в ЕС и США - экшены."
      ]
    },
    {
      "cell_type": "code",
      "metadata": {
        "colab": {
          "base_uri": "https://localhost:8080/",
          "height": 955
        },
        "id": "2meBBXZ-Nv1Z",
        "outputId": "01fb809d-6ed1-4352-de22-098d9f45fc6d"
      },
      "source": [
        "rating_sales = relevant_period.pivot_table(index='rating', \n",
        "                                                                  values=['na_sales',\n",
        "                                                                          'eu_sales',\n",
        "                                                                         'jp_sales'], aggfunc='sum')\n",
        "rating_sales = rating_sales_stat[['na_sales', 'eu_sales', 'jp_sales']]\n",
        "rating_sales\n",
        " "
      ],
      "execution_count": null,
      "outputs": [
        {
          "data": {
            "text/html": [
              "<div>\n",
              "<style scoped>\n",
              "    .dataframe tbody tr th:only-of-type {\n",
              "        vertical-align: middle;\n",
              "    }\n",
              "\n",
              "    .dataframe tbody tr th {\n",
              "        vertical-align: top;\n",
              "    }\n",
              "\n",
              "    .dataframe thead th {\n",
              "        text-align: right;\n",
              "    }\n",
              "</style>\n",
              "<table border=\"1\" class=\"dataframe\">\n",
              "  <thead>\n",
              "    <tr style=\"text-align: right;\">\n",
              "      <th></th>\n",
              "      <th>na_sales</th>\n",
              "      <th>eu_sales</th>\n",
              "      <th>jp_sales</th>\n",
              "    </tr>\n",
              "    <tr>\n",
              "      <th>rating</th>\n",
              "      <th></th>\n",
              "      <th></th>\n",
              "      <th></th>\n",
              "    </tr>\n",
              "  </thead>\n",
              "  <tbody>\n",
              "    <tr>\n",
              "      <td>E</td>\n",
              "      <td>79.05</td>\n",
              "      <td>83.36</td>\n",
              "      <td>15.14</td>\n",
              "    </tr>\n",
              "    <tr>\n",
              "      <td>E10+</td>\n",
              "      <td>54.24</td>\n",
              "      <td>42.69</td>\n",
              "      <td>5.89</td>\n",
              "    </tr>\n",
              "    <tr>\n",
              "      <td>M</td>\n",
              "      <td>165.21</td>\n",
              "      <td>145.32</td>\n",
              "      <td>14.11</td>\n",
              "    </tr>\n",
              "    <tr>\n",
              "      <td>T</td>\n",
              "      <td>49.79</td>\n",
              "      <td>41.95</td>\n",
              "      <td>20.59</td>\n",
              "    </tr>\n",
              "    <tr>\n",
              "      <td>undefined</td>\n",
              "      <td>89.42</td>\n",
              "      <td>78.91</td>\n",
              "      <td>85.05</td>\n",
              "    </tr>\n",
              "  </tbody>\n",
              "</table>\n",
              "</div>"
            ],
            "text/plain": [
              "           na_sales  eu_sales  jp_sales\n",
              "rating                                 \n",
              "E             79.05     83.36     15.14\n",
              "E10+          54.24     42.69      5.89\n",
              "M            165.21    145.32     14.11\n",
              "T             49.79     41.95     20.59\n",
              "undefined     89.42     78.91     85.05"
            ]
          },
          "execution_count": 455,
          "metadata": {},
          "output_type": "execute_result"
        }
      ]
    },
    {
      "cell_type": "code",
      "metadata": {
        "id": "WlU9fFa0OM12",
        "outputId": "d95043b7-e915-4a4c-900a-a97fc92f94c2"
      },
      "source": [
        "rating_sales_stat.plot()\n",
        "plt.show()"
      ],
      "execution_count": null,
      "outputs": [
        {
          "data": {
            "image/png": "[encoded data removed]",
            "text/plain": [
              "<Figure size 432x288 with 1 Axes>"
            ]
          },
          "metadata": {},
          "output_type": "display_data"
        }
      ]
    },
    {
      "cell_type": "markdown",
      "metadata": {
        "id": "njOVmpKvcNKv"
      },
      "source": [
        "'E': 'Для всех', \n",
        "\n",
        "'M': 'Старше 17 лет', \n",
        "\n",
        "'T': '13-19 лет', \n",
        "\n",
        "'E10+': 'Старше 10 лет'. \n"
      ]
    },
    {
      "cell_type": "markdown",
      "metadata": {
        "id": "Zhrwi9WYVGhY"
      },
      "source": [
        "Да, рейтинг ESRB влияет на продажи по регионам. В Японии лучше всего продаются игры с неопределенным рейтингом, в США и ЕС - с рейтингом \"Старше 17 лет\"."
      ]
    },
    {
      "cell_type": "markdown",
      "metadata": {
        "id": "whHAVQPKaLtX"
      },
      "source": [
        "Япония: Самые популярные платформы: 3DS, PS3, PSV, больше всего покупают ролевые игры и игры с рейтингом, по которому у нас нет данных.\n",
        "\n",
        "ЕС: Самые популярные платформы: PS4, PS3, XOne,  больше всего покупают экшены и игры с рейтингом \"Старше 17\".\n",
        "\n",
        "США: Самые популярные платформы: PS4, XOne, X360, больше всего покупают экшены и игры с рейтингом \"Старше 17\".\n",
        "\n"
      ]
    },
    {
      "cell_type": "markdown",
      "metadata": {
        "id": "y3vubvt0amof"
      },
      "source": [
        "**5. Проверка гипотез**\n",
        "\n",
        "Средние пользовательские рейтинги платформ Xbox One и PC одинаковые;\n",
        "\n",
        "Средние пользовательские рейтинги жанров Action (англ. «действие», экшен-игры) и Sports (англ. «спортивные соревнования») разные.\n",
        "\n",
        "Будем использовать t-критерий Стьюдента, так как сравниваемые выборки независимы между собой.\n",
        "\n"
      ]
    },
    {
      "cell_type": "markdown",
      "metadata": {
        "id": "WTOV8nxVzNH4"
      },
      "source": [
        "**Гипотеза № 1:**\n",
        "\n",
        "Н0: Средние пользовательские рейтинги платформ Xbox One и PC одинаковые;\n",
        "\n",
        "Н1: Средние пользовательские рейтинги платформ Xbox One и PC различаются."
      ]
    },
    {
      "cell_type": "code",
      "metadata": {
        "id": "H6DsiBK2VYX3"
      },
      "source": [
        "pc = relevant_period[(relevant_period['platform'] == 'PC') & (relevant_period['user_score'] > 0)]['user_score']\n",
        "xone = relevant_period[(relevant_period['platform'] == 'XOne') & (relevant_period['user_score'] > 0)]['user_score']\n"
      ],
      "execution_count": null,
      "outputs": []
    },
    {
      "cell_type": "code",
      "metadata": {
        "colab": {
          "base_uri": "https://localhost:8080/"
        },
        "id": "u49-LQvg1zM7",
        "outputId": "35cca460-1ad9-4156-ed40-a5656ccf54d4"
      },
      "source": [
        "alpha = 0.05\n",
        "results = st.ttest_ind(pc, xone, equal_var = False)\n",
        "print('p-значение:', results.pvalue)\n",
        "\n",
        "if (results.pvalue < alpha):\n",
        "    print(\"Отвергаем нулевую гипотезу\")\n",
        "else:\n",
        "    print(\"Не получилось отвергнуть нулевую гипотезу\")\n"
      ],
      "execution_count": null,
      "outputs": [
        {
          "name": "stdout",
          "output_type": "stream",
          "text": [
            "p-значение: 0.14759594013430463\n",
            "Не получилось отвергнуть нулевую гипотезу\n"
          ]
        }
      ]
    },
    {
      "cell_type": "code",
      "metadata": {
        "colab": {
          "base_uri": "https://localhost:8080/"
        },
        "id": "P2vjTBU_5nwQ",
        "outputId": "f0096211-5b99-461e-ad3e-c0022b30f58c"
      },
      "source": [
        "print ('Средний пользовательский рейтинг платформы PC', pc.mean())\n",
        "print ('Средний пользовательский рейтинг платформы Xbox One', xone.mean())"
      ],
      "execution_count": null,
      "outputs": [
        {
          "name": "stdout",
          "output_type": "stream",
          "text": [
            "Средний пользовательский рейтинг платформы PC 6.2696774193548395\n",
            "Средний пользовательский рейтинг платформы Xbox One 6.521428571428572\n"
          ]
        }
      ]
    },
    {
      "cell_type": "markdown",
      "metadata": {
        "id": "FYVG7xPU2RBv"
      },
      "source": [
        "С вероятностью 86% мы можем утверждать, что  средние рейтинги для этих платформ не различаются. Таким образом, у нас нет оснований отвергать гипотезу Н0, делаем вывод, что оценки схожи, а различия статистически не значимы."
      ]
    },
    {
      "cell_type": "markdown",
      "metadata": {
        "id": "B_kPTexw2dZ_"
      },
      "source": [
        "**Гипотеза № 2:**\n",
        "\n",
        "Н0: Средние пользовательские рейтинги жанров Action и Sports одинаковые;\n",
        "\n",
        "Н1: Средние пользовательские рейтинги жанров Action и Sports разные.\n"
      ]
    },
    {
      "cell_type": "code",
      "metadata": {
        "id": "bsB_LDVF3G0G"
      },
      "source": [
        "action = relevant_period[(relevant_period['genre'] == 'Action') & (relevant_period['user_score'] > 0)]['user_score']\n",
        "sports = relevant_period[(relevant_period['genre'] == 'Sports') & (relevant_period['user_score'] > 0)]['user_score']"
      ],
      "execution_count": null,
      "outputs": []
    },
    {
      "cell_type": "code",
      "metadata": {
        "colab": {
          "base_uri": "https://localhost:8080/"
        },
        "id": "mXiE5V_b33Hq",
        "outputId": "a8193478-b69a-44cd-af93-57ddc98f0cff"
      },
      "source": [
        "alpha = 0.05\n",
        "results = st.ttest_ind(action, sports, equal_var = False)\n",
        "print('p-значение:', results.pvalue)\n",
        "\n",
        "if (results.pvalue < alpha):\n",
        "    print(\"Отвергаем нулевую гипотезу\")\n",
        "else:\n",
        "    print(\"Не получилось отвергнуть нулевую гипотезу\")"
      ],
      "execution_count": null,
      "outputs": [
        {
          "name": "stdout",
          "output_type": "stream",
          "text": [
            "p-значение: 1.4460039700704315e-20\n",
            "Отвергаем нулевую гипотезу\n"
          ]
        }
      ]
    },
    {
      "cell_type": "code",
      "metadata": {
        "colab": {
          "base_uri": "https://localhost:8080/"
        },
        "id": "0qaaH9YN6qlu",
        "outputId": "6d1576da-ef21-4cec-d0b8-1f4625d90deb"
      },
      "source": [
        "print ('Средний пользовательский рейтинг жанра Action', action.mean())\n",
        "print ('Средний пользовательский рейтинг жанра Sports', sports.mean())"
      ],
      "execution_count": null,
      "outputs": [
        {
          "name": "stdout",
          "output_type": "stream",
          "text": [
            "Средний пользовательский рейтинг жанра Action 6.837532133676092\n",
            "Средний пользовательский рейтинг жанра Sports 5.238124999999999\n"
          ]
        }
      ]
    },
    {
      "cell_type": "markdown",
      "metadata": {
        "id": "qbgIzRYp8j7R"
      },
      "source": [
        "Вероятность случайного совпадения средних наших выборок ничтожно мала, поэтому мы отвергаем гипотезу о том, что средние пользовательские рейтинги игр жанров Action и Sports равны."
      ]
    },
    {
      "cell_type": "markdown",
      "metadata": {
        "id": "hD7KvKpAOc01"
      },
      "source": [
        "**6. Общий вывод**\n",
        "\n",
        "Основной период существования платформы составляет 5-11 лет. \n",
        " \n",
        "Самыми успешными платформами с 2013 года оказываются: PS4, PS3, X360, XOne, 3DS. К 2016 продажи абсолютно всех платформ падают,а X360 и PS3 и вовсе стремится к нулю, так как их сменили обновленные модели - PS4 и XOne. У PS4 самое выигрышное положение, за ними идут 3DS и XOne.\n",
        " \n",
        "Для прогнозирования стратегии на 2017 год мы могли бы рекомендовать:\n",
        "\n",
        "-учитывать причины, которые привели к успеху Sony, 3DS, Xbox (например, упор на безопасность, возможность соревноваться с друзьями и т.д.);\n",
        "\n",
        "-ориентироваться на реалии современного технического прогресса, например, на разработку мобильных игр и VR (предварительно провести анализ этих сегментов, так как все компьютерные платформы находятся в регрессии);\n",
        "\n",
        "-учитывать, что оценки критиков  могут повлиять на продажи.  Оценки пользователей не влияют на продажи;\n",
        "\n",
        "-учитывать разницу в продажах по регионам, а именно:\n",
        "\n",
        "популярность жанров: Action, Shooter, Sports в ЕС и США, и ролевых игр в Японии,популярность игровых платформ:  3DS, PS3, PSV в Японии, PS4, PS3, XOne  - в ЕС и PS4, XOne, X360 в США. Также В Японии лучше всего продаются игры с неопределенным рейтингом, в США и ЕС - с рейтингом \"Старше 17 лет\".\n"
      ]
    }
  ]
}